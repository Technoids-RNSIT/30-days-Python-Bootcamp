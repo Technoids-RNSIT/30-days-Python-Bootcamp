{
 "cells": [
  {
   "cell_type": "markdown",
   "id": "a457a20e",
   "metadata": {},
   "source": [
    "### Problem 1) Recreate below output dataframe using \n",
    "\n",
    "#### i) lists\n",
    "#### ii) dictionary\n",
    "#### iii) Series (pd.Series)"
   ]
  },
  {
   "cell_type": "code",
   "execution_count": 7,
   "id": "e11c2f04",
   "metadata": {},
   "outputs": [
    {
     "data": {
      "text/html": [
       "<div>\n",
       "<style scoped>\n",
       "    .dataframe tbody tr th:only-of-type {\n",
       "        vertical-align: middle;\n",
       "    }\n",
       "\n",
       "    .dataframe tbody tr th {\n",
       "        vertical-align: top;\n",
       "    }\n",
       "\n",
       "    .dataframe thead th {\n",
       "        text-align: right;\n",
       "    }\n",
       "</style>\n",
       "<table border=\"1\" class=\"dataframe\">\n",
       "  <thead>\n",
       "    <tr style=\"text-align: right;\">\n",
       "      <th></th>\n",
       "      <th>Name</th>\n",
       "      <th>Age</th>\n",
       "      <th>Address</th>\n",
       "      <th>Qualification</th>\n",
       "    </tr>\n",
       "  </thead>\n",
       "  <tbody>\n",
       "    <tr>\n",
       "      <th>0</th>\n",
       "      <td>Raj</td>\n",
       "      <td>27</td>\n",
       "      <td>Delhi</td>\n",
       "      <td>BE</td>\n",
       "    </tr>\n",
       "    <tr>\n",
       "      <th>1</th>\n",
       "      <td>Rahul</td>\n",
       "      <td>24</td>\n",
       "      <td>NaN</td>\n",
       "      <td>MA</td>\n",
       "    </tr>\n",
       "    <tr>\n",
       "      <th>2</th>\n",
       "      <td>Yadav</td>\n",
       "      <td>22</td>\n",
       "      <td>Bangalore</td>\n",
       "      <td>MCA</td>\n",
       "    </tr>\n",
       "    <tr>\n",
       "      <th>3</th>\n",
       "      <td>Abhay</td>\n",
       "      <td>32</td>\n",
       "      <td>Mumbai</td>\n",
       "      <td>Phd</td>\n",
       "    </tr>\n",
       "  </tbody>\n",
       "</table>\n",
       "</div>"
      ],
      "text/plain": [
       "    Name  Age    Address Qualification\n",
       "0    Raj   27      Delhi            BE\n",
       "1  Rahul   24        NaN            MA\n",
       "2  Yadav   22  Bangalore           MCA\n",
       "3  Abhay   32     Mumbai           Phd"
      ]
     },
     "execution_count": 7,
     "metadata": {},
     "output_type": "execute_result"
    }
   ],
   "source": [
    "#THIS SHOULD BE YOUR OUTPUT    (don't run this shell)"
   ]
  },
  {
   "cell_type": "markdown",
   "id": "8ddad476",
   "metadata": {},
   "source": [
    "#### Solution"
   ]
  },
  {
   "cell_type": "code",
   "execution_count": null,
   "id": "67e14c74",
   "metadata": {},
   "outputs": [],
   "source": [
    "#your code here\n",
    "\n"
   ]
  },
  {
   "cell_type": "markdown",
   "id": "77729048",
   "metadata": {},
   "source": [
    "### Problem 2"
   ]
  },
  {
   "cell_type": "markdown",
   "id": "c6c20281",
   "metadata": {},
   "source": [
    "#### i) In Problem 1 dataframe, add another column 'Gender'  with values , Raj as 'Male' , Rahul as 'Male' , Yadav as 'NaN', Abhay as 'Male'\n",
    "#### ii) In the 'Gender' column fill the NaN value with 'Not Disclosed'\n",
    "#### iii)Use 'method' attribute of fillna() to  fill the NaN value in 'Address' column with the value next to it."
   ]
  },
  {
   "cell_type": "markdown",
   "id": "f907eadc",
   "metadata": {},
   "source": [
    "#### Solution"
   ]
  },
  {
   "cell_type": "code",
   "execution_count": null,
   "id": "71faf48e",
   "metadata": {},
   "outputs": [],
   "source": [
    "#your code here\n",
    "\n"
   ]
  },
  {
   "cell_type": "markdown",
   "id": "a8763634",
   "metadata": {},
   "source": [
    "### Problem 3"
   ]
  },
  {
   "cell_type": "markdown",
   "id": "3b569b6f",
   "metadata": {},
   "source": [
    "#### i) Analyse and gather information in the dataset 'water_potability.csv' using DataFrame methods (like .index , .describe() etc. )\n",
    "#### ii) Fill the missing values in 'Sulfate' column by the mean value of column 'Sulfate'.\n",
    "#### iii) In the Potability column : 0 means water is not potable and 1 means water is potable. Get the count of rows having a) Potable water b) Non Potable water\n",
    "#### iv) Get the 'ph' value of all rows which are potable water."
   ]
  },
  {
   "cell_type": "markdown",
   "id": "212d909e",
   "metadata": {},
   "source": [
    "#### Solution"
   ]
  },
  {
   "cell_type": "code",
   "execution_count": null,
   "id": "b3ac965a",
   "metadata": {},
   "outputs": [],
   "source": [
    "#your code here\n",
    "\n"
   ]
  }
 ],
 "metadata": {
  "kernelspec": {
   "display_name": "Python 3",
   "language": "python",
   "name": "python3"
  },
  "language_info": {
   "codemirror_mode": {
    "name": "ipython",
    "version": 3
   },
   "file_extension": ".py",
   "mimetype": "text/x-python",
   "name": "python",
   "nbconvert_exporter": "python",
   "pygments_lexer": "ipython3",
   "version": "3.8.8"
  }
 },
 "nbformat": 4,
 "nbformat_minor": 5
}
