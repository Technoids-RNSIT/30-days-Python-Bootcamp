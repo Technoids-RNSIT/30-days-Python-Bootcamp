{
  "nbformat": 4,
  "nbformat_minor": 0,
  "metadata": {
    "colab": {
      "name": "decorators.ipynb",
      "provenance": []
    },
    "kernelspec": {
      "display_name": "Python 3",
      "name": "python3"
    },
    "language_info": {
      "name": "python"
    }
  },
  "cells": [
    {
      "cell_type": "markdown",
      "metadata": {
        "id": "YZHE9tj7Jsbx"
      },
      "source": [
        "# **Decorators**\n",
        "\n",
        "\n"
      ]
    },
    {
      "cell_type": "markdown",
      "metadata": {
        "id": "3sDbUAxMJd51"
      },
      "source": [
        "A decorator in Python is a function that takes another **function as its argument**, and returns yet another function. Decorators can be extremely useful as they allow the extension of an existing function, without any modification to the original function source code."
      ]
    },
    {
      "cell_type": "markdown",
      "metadata": {
        "id": "3llW-B1-KMjy"
      },
      "source": [
        "So let's cover a few pre-requisites"
      ]
    },
    {
      "cell_type": "markdown",
      "metadata": {
        "id": "THEvzLhNKxe6"
      },
      "source": [
        "# Functions\n",
        "They are first class objects in python"
      ]
    },
    {
      "cell_type": "markdown",
      "metadata": {
        "id": "rCfVOnJcx9nX"
      },
      "source": [
        "    We can store the function in a variable.\n",
        "    We can define it under another function.\n",
        "    We can return the function from a function.\n",
        "    We can pass the function as a parameter to another function.\n",
        "    We can store them in data structures such as Lists."
      ]
    },
    {
      "cell_type": "code",
      "metadata": {
        "id": "mJQ-qmsnx9Wy"
      },
      "source": [
        "def nf1():\n",
        "  print(\"Technoids\")\n",
        "sto_var_as_func = nf1()\n",
        "sto_var_as_func"
      ],
      "execution_count": null,
      "outputs": []
    },
    {
      "cell_type": "code",
      "metadata": {
        "id": "Gq5OQnB_y06p"
      },
      "source": [
        "def nf1():\n",
        "  print(\"Technoids\")\n",
        "  def nf2():\n",
        "    print(\"Python Bootcamp\")\n",
        "  return nf2()\n",
        "nf1()"
      ],
      "execution_count": null,
      "outputs": []
    },
    {
      "cell_type": "code",
      "metadata": {
        "id": "V5Kb26Bs0Wg0"
      },
      "source": [
        "def add(a,b):\n",
        "  print(\"main function\")\n",
        "  res = a + b\n",
        "  return res\n",
        "def int_add(any_func,a,b):\n",
        "  print(\"inside intermediate function\")\n",
        "  return any_func(a,b)\n",
        "print(int_add(add,10,20))\n"
      ],
      "execution_count": null,
      "outputs": []
    },
    {
      "cell_type": "code",
      "metadata": {
        "id": "WwZ5r6_I2LYE"
      },
      "source": [
        "def sub(a,b):\n",
        "  res = abs(a-b)\n",
        "  return res\n",
        "lst = [add,sub]\n",
        "print(lst[0](10,20))\n",
        "print(lst[1](10,20))"
      ],
      "execution_count": null,
      "outputs": []
    },
    {
      "cell_type": "code",
      "metadata": {
        "id": "xcuQYmOflTW1"
      },
      "source": [
        "dir()"
      ],
      "execution_count": null,
      "outputs": []
    },
    {
      "cell_type": "markdown",
      "metadata": {
        "id": "2ZgiZ94fKrwi"
      },
      "source": [
        "# **Namespace**"
      ]
    },
    {
      "cell_type": "markdown",
      "metadata": {
        "id": "CMlv11yhPb4F"
      },
      "source": [
        "dir()---returns list of the attributes and methods of any object"
      ]
    },
    {
      "cell_type": "markdown",
      "metadata": {
        "id": "REQ0-k6JGts5"
      },
      "source": [
        "If no parameters are passed it returns a list of names in the current local scope.\n",
        "\n",
        "\n",
        "\n",
        "\n",
        "\n"
      ]
    },
    {
      "cell_type": "code",
      "metadata": {
        "id": "bNXyb0lpQ5Vd"
      },
      "source": [
        "name = \"Aman Singh Technoids\"\n",
        "dir(name)"
      ],
      "execution_count": null,
      "outputs": []
    },
    {
      "cell_type": "code",
      "metadata": {
        "colab": {
          "base_uri": "https://localhost:8080/"
        },
        "id": "3HYjlN5FMHnu",
        "outputId": "1b0ceec3-2023-4fcc-eb17-939859952dfa"
      },
      "source": [
        "a = 1\n",
        "print(a)\n",
        "dir()"
      ],
      "execution_count": null,
      "outputs": [
        {
          "output_type": "stream",
          "name": "stdout",
          "text": [
            "1\n"
          ]
        },
        {
          "output_type": "execute_result",
          "data": {
            "text/plain": [
              "['In',\n",
              " 'Out',\n",
              " '_',\n",
              " '_22',\n",
              " '_32',\n",
              " '_33',\n",
              " '_56',\n",
              " '_58',\n",
              " '_6',\n",
              " '_68',\n",
              " '_69',\n",
              " '_75',\n",
              " '_76',\n",
              " '_77',\n",
              " '__',\n",
              " '___',\n",
              " '__builtin__',\n",
              " '__builtins__',\n",
              " '__doc__',\n",
              " '__loader__',\n",
              " '__name__',\n",
              " '__package__',\n",
              " '__spec__',\n",
              " '_dh',\n",
              " '_i',\n",
              " '_i1',\n",
              " '_i10',\n",
              " '_i11',\n",
              " '_i12',\n",
              " '_i13',\n",
              " '_i14',\n",
              " '_i15',\n",
              " '_i16',\n",
              " '_i17',\n",
              " '_i18',\n",
              " '_i19',\n",
              " '_i2',\n",
              " '_i20',\n",
              " '_i21',\n",
              " '_i22',\n",
              " '_i23',\n",
              " '_i24',\n",
              " '_i25',\n",
              " '_i26',\n",
              " '_i27',\n",
              " '_i28',\n",
              " '_i29',\n",
              " '_i3',\n",
              " '_i30',\n",
              " '_i31',\n",
              " '_i32',\n",
              " '_i33',\n",
              " '_i34',\n",
              " '_i35',\n",
              " '_i36',\n",
              " '_i37',\n",
              " '_i38',\n",
              " '_i39',\n",
              " '_i4',\n",
              " '_i40',\n",
              " '_i41',\n",
              " '_i42',\n",
              " '_i43',\n",
              " '_i44',\n",
              " '_i45',\n",
              " '_i46',\n",
              " '_i47',\n",
              " '_i48',\n",
              " '_i49',\n",
              " '_i5',\n",
              " '_i50',\n",
              " '_i51',\n",
              " '_i52',\n",
              " '_i53',\n",
              " '_i54',\n",
              " '_i55',\n",
              " '_i56',\n",
              " '_i57',\n",
              " '_i58',\n",
              " '_i59',\n",
              " '_i6',\n",
              " '_i60',\n",
              " '_i61',\n",
              " '_i62',\n",
              " '_i63',\n",
              " '_i64',\n",
              " '_i65',\n",
              " '_i66',\n",
              " '_i67',\n",
              " '_i68',\n",
              " '_i69',\n",
              " '_i7',\n",
              " '_i70',\n",
              " '_i71',\n",
              " '_i72',\n",
              " '_i73',\n",
              " '_i74',\n",
              " '_i75',\n",
              " '_i76',\n",
              " '_i77',\n",
              " '_i78',\n",
              " '_i8',\n",
              " '_i9',\n",
              " '_ih',\n",
              " '_ii',\n",
              " '_iii',\n",
              " '_oh',\n",
              " '_sh',\n",
              " 'a',\n",
              " 'add',\n",
              " 'dec_div',\n",
              " 'dec_lower',\n",
              " 'dec_split',\n",
              " 'dec_upper',\n",
              " 'div_func',\n",
              " 'exit',\n",
              " 'g',\n",
              " 'get_ipython',\n",
              " 'int_add',\n",
              " 'lst',\n",
              " 'name',\n",
              " 'newf1',\n",
              " 'newf2',\n",
              " 'nf1',\n",
              " 'quit',\n",
              " 'sto_var_as_func',\n",
              " 'sub',\n",
              " 'tech_str',\n",
              " 'tech_str1',\n",
              " 'tech_str_upper']"
            ]
          },
          "metadata": {},
          "execution_count": 78
        }
      ]
    },
    {
      "cell_type": "code",
      "metadata": {
        "colab": {
          "base_uri": "https://localhost:8080/"
        },
        "id": "BV04IvXKMKnW",
        "outputId": "08eb2af5-12a6-47d6-e6fa-13c426832014"
      },
      "source": [
        " a=2\n",
        "print(a)"
      ],
      "execution_count": null,
      "outputs": [
        {
          "output_type": "stream",
          "name": "stdout",
          "text": [
            "2\n"
          ]
        }
      ]
    },
    {
      "cell_type": "code",
      "metadata": {
        "colab": {
          "base_uri": "https://localhost:8080/"
        },
        "id": "l_RFfK6uLcnX",
        "outputId": "058d219b-a8c7-41d3-9c4a-e49f6176bdb9"
      },
      "source": [
        "print(\"home\",dir())\n",
        "def newf1():\n",
        "  a = 10\n",
        "  b = 20\n",
        "  print(\"first function\",dir())\n",
        "  return a\n",
        "def newf2():\n",
        "  a = 20\n",
        "  c = 30\n",
        "  print(\"second function\",dir())\n",
        "  return a\n",
        "print(newf1())\n",
        "print(newf2())\n",
        "print(a)"
      ],
      "execution_count": null,
      "outputs": [
        {
          "output_type": "stream",
          "name": "stdout",
          "text": [
            "home ['In', 'Out', '_', '_22', '_32', '_33', '_56', '_58', '_6', '_68', '_69', '_75', '_76', '_77', '_78', '__', '___', '__builtin__', '__builtins__', '__doc__', '__loader__', '__name__', '__package__', '__spec__', '_dh', '_i', '_i1', '_i10', '_i11', '_i12', '_i13', '_i14', '_i15', '_i16', '_i17', '_i18', '_i19', '_i2', '_i20', '_i21', '_i22', '_i23', '_i24', '_i25', '_i26', '_i27', '_i28', '_i29', '_i3', '_i30', '_i31', '_i32', '_i33', '_i34', '_i35', '_i36', '_i37', '_i38', '_i39', '_i4', '_i40', '_i41', '_i42', '_i43', '_i44', '_i45', '_i46', '_i47', '_i48', '_i49', '_i5', '_i50', '_i51', '_i52', '_i53', '_i54', '_i55', '_i56', '_i57', '_i58', '_i59', '_i6', '_i60', '_i61', '_i62', '_i63', '_i64', '_i65', '_i66', '_i67', '_i68', '_i69', '_i7', '_i70', '_i71', '_i72', '_i73', '_i74', '_i75', '_i76', '_i77', '_i78', '_i79', '_i8', '_i80', '_i81', '_i9', '_ih', '_ii', '_iii', '_oh', '_sh', 'a', 'add', 'dec_div', 'dec_lower', 'dec_split', 'dec_upper', 'div_func', 'exit', 'g', 'get_ipython', 'int_add', 'lst', 'name', 'newf1', 'newf2', 'nf1', 'quit', 'sto_var_as_func', 'sub', 'tech_str', 'tech_str1', 'tech_str_upper']\n",
            "first function ['a', 'b']\n",
            "10\n",
            "second function ['a', 'c']\n",
            "20\n",
            "2\n"
          ]
        }
      ]
    },
    {
      "cell_type": "code",
      "metadata": {
        "colab": {
          "base_uri": "https://localhost:8080/"
        },
        "id": "dGDVF-5vjtP5",
        "outputId": "708c5050-650c-479f-a242-d0139635b25f"
      },
      "source": [
        "def newf1():\n",
        "  global a\n",
        "  a +=1 \n",
        "  b = 20\n",
        "  print(\"first function\",dir())\n",
        "  return a\n",
        "def newf2():\n",
        "  a = 20\n",
        "  c = 30\n",
        "  print(\"second function\",dir())\n",
        "  return a\n",
        "print(newf1())\n",
        "print(newf2())\n",
        "print(a)"
      ],
      "execution_count": null,
      "outputs": [
        {
          "output_type": "stream",
          "name": "stdout",
          "text": [
            "first function ['b']\n",
            "3\n",
            "second function ['a', 'c']\n",
            "20\n",
            "3\n"
          ]
        }
      ]
    },
    {
      "cell_type": "code",
      "metadata": {
        "colab": {
          "base_uri": "https://localhost:8080/"
        },
        "id": "9Uvr0jwDlsfM",
        "outputId": "269fec1a-7b72-4562-d82b-23fb4b7dd219"
      },
      "source": [
        "def newf1():\n",
        "  b = 20\n",
        "  def newf2():\n",
        "    a = 100\n",
        "    print(\"a\",a)\n",
        "    print(\"b nested\",b)\n",
        "  newf2()\n",
        "  print(\"b\",b)\n",
        "newf1()"
      ],
      "execution_count": null,
      "outputs": [
        {
          "output_type": "stream",
          "name": "stdout",
          "text": [
            "a 100\n",
            "b nested 20\n",
            "b 20\n"
          ]
        }
      ]
    },
    {
      "cell_type": "code",
      "metadata": {
        "colab": {
          "base_uri": "https://localhost:8080/"
        },
        "id": "GRw9WnOxmnGo",
        "outputId": "28bfbcd1-c5bf-46c6-913e-a0559c3757f7"
      },
      "source": [
        "def newf1():\n",
        "  b = 20\n",
        "  def newf2():\n",
        "    a = 100\n",
        "    nonlocal b\n",
        "    b = b + 1\n",
        "    print(\"a\",a)\n",
        "    print(\"b nested\",b)\n",
        "  newf2()\n",
        "  print(\"b\",b)\n",
        "newf1()"
      ],
      "execution_count": null,
      "outputs": [
        {
          "output_type": "stream",
          "name": "stdout",
          "text": [
            "a 100\n",
            "b nested 21\n",
            "b 21\n"
          ]
        }
      ]
    },
    {
      "cell_type": "markdown",
      "metadata": {
        "id": "8xAYUiUvjs1Q"
      },
      "source": [
        "local,enclosed,global,built-in"
      ]
    },
    {
      "cell_type": "code",
      "metadata": {
        "colab": {
          "base_uri": "https://localhost:8080/"
        },
        "id": "IaN3cklPxRIJ",
        "outputId": "42f5a19c-4b37-4ce1-8809-1861ea0dcd38"
      },
      "source": [
        "dir(__builtins__)\n",
        "len(dir(__builtins__))"
      ],
      "execution_count": null,
      "outputs": [
        {
          "output_type": "execute_result",
          "data": {
            "text/plain": [
              "156"
            ]
          },
          "metadata": {},
          "execution_count": 91
        }
      ]
    },
    {
      "cell_type": "code",
      "metadata": {
        "colab": {
          "base_uri": "https://localhost:8080/"
        },
        "id": "r89k0iodnIvs",
        "outputId": "2d78b764-c632-4331-a3f2-2003fbfdfbf5"
      },
      "source": [
        "a = 1\n",
        "def newf1():\n",
        "  #a = 20\n",
        "  def newf2():\n",
        "    #a = 10\n",
        "    print(\"a\",a)\n",
        "  newf2()\n",
        "newf1()"
      ],
      "execution_count": null,
      "outputs": [
        {
          "output_type": "stream",
          "name": "stdout",
          "text": [
            "a 1\n"
          ]
        }
      ]
    },
    {
      "cell_type": "code",
      "metadata": {
        "colab": {
          "base_uri": "https://localhost:8080/"
        },
        "id": "11JKjp1enx50",
        "outputId": "07575521-47ee-40e4-9869-4226a49949bc"
      },
      "source": [
        "def newf19():\n",
        "  a = 20\n",
        "  def newf10():  \n",
        "    return a\n",
        "  return newf10\n",
        "g = newf19()\n",
        "print(g.__name__)\n",
        "print(g())"
      ],
      "execution_count": 109,
      "outputs": [
        {
          "output_type": "stream",
          "name": "stdout",
          "text": [
            "newf10\n",
            "20\n"
          ]
        }
      ]
    },
    {
      "cell_type": "markdown",
      "metadata": {
        "id": "X9WJphkmsvld"
      },
      "source": [
        "A Closure is a function object that remembers values in enclosing scopes even if they are not present in memory.\n",
        "\n",
        "\n",
        "1.       We must have a nested function (function inside a function).\n",
        "    \n",
        "    \n",
        "\n",
        "2. The nested function must refer to a value defined in the enclosing function.\n",
        "\n",
        "\n",
        "3. The enclosing function must return the nested function.\n",
        "\n",
        "\n",
        "\n",
        "\n"
      ]
    },
    {
      "cell_type": "markdown",
      "metadata": {
        "id": "1PwX_-bqt-rZ"
      },
      "source": [
        "Any callable python object that is used to modify a function or class\n",
        "\n",
        "1. Function Decorator\n",
        "2. Class Decorator\n",
        "\n"
      ]
    },
    {
      "cell_type": "markdown",
      "metadata": {
        "id": "2jm8wvrSuDAe"
      },
      "source": [
        "#Function Decorators"
      ]
    },
    {
      "cell_type": "code",
      "metadata": {
        "colab": {
          "base_uri": "https://localhost:8080/"
        },
        "id": "QDtoX5LjswuG",
        "outputId": "57080cde-3ee5-4835-8053-73d5a4b027fa"
      },
      "source": [
        "def dec_lower(func):\n",
        "  def operation_algo():\n",
        "    str2 = func()\n",
        "    return str2.lower()\n",
        "  return operation_algo()\n",
        "\n",
        "@dec_lower\n",
        "def tech_str1():\n",
        "  return \"Technoids \"\n",
        "print(tech_str1)"
      ],
      "execution_count": null,
      "outputs": [
        {
          "output_type": "stream",
          "name": "stdout",
          "text": [
            "technoids \n"
          ]
        }
      ]
    },
    {
      "cell_type": "code",
      "metadata": {
        "colab": {
          "base_uri": "https://localhost:8080/"
        },
        "id": "kJaaC9hNLaz_",
        "outputId": "1fda85ba-2ba0-4ce9-86fe-7bcd52732d9f"
      },
      "source": [
        "def dec_upper(func):\n",
        "  def operation_algo():\n",
        "    str2 = func()\n",
        "    return str2.upper()\n",
        "  return operation_algo\n",
        "def dec_split(func):\n",
        "  def operation_algo_1():\n",
        "    str3 = func()\n",
        "    return str3.split()\n",
        "  return operation_algo_1\n",
        "@dec_split\n",
        "@dec_upper\n",
        "def tech_str1():\n",
        "  return \"Technoids , Aman Singh\"\n",
        "print(tech_str1())"
      ],
      "execution_count": 110,
      "outputs": [
        {
          "output_type": "stream",
          "name": "stdout",
          "text": [
            "['TECHNOIDS', ',', 'AMAN', 'SINGH']\n"
          ]
        }
      ]
    },
    {
      "cell_type": "code",
      "metadata": {
        "colab": {
          "base_uri": "https://localhost:8080/"
        },
        "id": "V9V6t75Rw9h6",
        "outputId": "d2b7b3fe-c939-4799-a5ee-71cf688abe62"
      },
      "source": [
        "def dec_div(func):\n",
        "  def operation_algo(a,b):\n",
        "    if b == 0:\n",
        "      return \"Wrong input\"\n",
        "    return func(a,b)\n",
        "  return operation_algo\n",
        "\n",
        "@dec_div\n",
        "def div_func(a,b):\n",
        "  return a/b\n",
        "print(div_func(1,0))"
      ],
      "execution_count": null,
      "outputs": [
        {
          "output_type": "stream",
          "name": "stdout",
          "text": [
            "Wrong input\n"
          ]
        }
      ]
    },
    {
      "cell_type": "code",
      "metadata": {
        "id": "6XlmVkFRLRVq"
      },
      "source": [
        ""
      ],
      "execution_count": null,
      "outputs": []
    },
    {
      "cell_type": "markdown",
      "metadata": {
        "id": "5rzqmHbuw9Q3"
      },
      "source": [
        ""
      ]
    }
  ]
}