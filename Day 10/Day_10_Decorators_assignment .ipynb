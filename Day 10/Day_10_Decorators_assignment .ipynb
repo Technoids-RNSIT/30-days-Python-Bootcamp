{
  "nbformat": 4,
  "nbformat_minor": 0,
  "metadata": {
    "colab": {
      "name": "Day_10_Decorators_assignment.ipynb",
      "provenance": []
    },
    "kernelspec": {
      "name": "python3",
      "display_name": "Python 3"
    },
    "language_info": {
      "name": "python"
    }
  },
  "cells": [
    {
      "cell_type": "code",
      "metadata": {
        "id": "l13nJ-afzN9q"
      },
      "source": [
        "#Optional questions carry no weightage in score"
      ],
      "execution_count": null,
      "outputs": []
    },
    {
      "cell_type": "markdown",
      "metadata": {
        "id": "6wgTM1tnwW7Q"
      },
      "source": [
        "\n",
        "\n",
        "1.   Examples(code) explaining all properties of functions as first class object?(Different from the decorators file provided)\n",
        "3.   Write a decorator function of your choice using built-in functions?\n",
        "4.   (Optional)Write a decorator function without using \"@\"?(Hint: Closure)\n",
        "{This way is not recommended just for your understanding}\n",
        "\n"
      ]
    },
    {
      "cell_type": "code",
      "metadata": {
        "id": "UkLVwZBkyPPL"
      },
      "source": [
        "#2. Output of following code with explanation\n",
        "\n",
        "#2.1\n",
        "def dec_lower(func):\n",
        "  def operation_algo():\n",
        "    str2 = func()\n",
        "    return str2.lower()\n",
        "  return operation_algo\n",
        "\n",
        "@dec_lower\n",
        "def tech_str1():\n",
        "  return \"Technoids \"\n",
        "print(tech_str1)\n",
        "\n",
        "#2.2 \n",
        "def dec_lower(func):\n",
        "  def operation_algo():\n",
        "    str2 = func()\n",
        "    return str2.lower()\n",
        "  return operation_algo()\n",
        "\n",
        "@dec_lower\n",
        "def tech_str1():\n",
        "  return \"Technoids \"\n",
        "print(tech_str1())\n",
        "\n",
        "#2.3\n",
        "def dec_lower(func):\n",
        "  def operation_algo():\n",
        "    str2 = func()\n",
        "    return str2.lower()\n",
        "  return operation_algo()\n",
        "\n",
        "@dec_lower\n",
        "def tech_str1():\n",
        "  return \"Technoids \"\n",
        "print(tech_str1)"
      ],
      "execution_count": null,
      "outputs": []
    }
  ]
}
