{
 "cells": [
  {
   "cell_type": "markdown",
   "id": "1b1965df",
   "metadata": {},
   "source": [
    "# Statements Assessment"
   ]
  },
  {
   "cell_type": "markdown",
   "id": "4d0e9ca7",
   "metadata": {},
   "source": [
    "______\n",
    "**1.Use range() to print all the odd numbers from 0 to 10.**"
   ]
  },
  {
   "cell_type": "markdown",
   "id": "ccd1b82d",
   "metadata": {},
   "source": [
    "_____\n",
    "**2. Use <code>for</code>, .split(), and <code>if</code> to create a Statement that will print out words that start with 'c':**"
   ]
  },
  {
   "cell_type": "code",
   "execution_count": 1,
   "id": "5260a399",
   "metadata": {},
   "outputs": [],
   "source": [
    "strn = 'you can code if you practice coding'"
   ]
  },
  {
   "cell_type": "markdown",
   "id": "bc3bc309",
   "metadata": {},
   "source": [
    "___\n",
    "**3. Use List comprehension to create a list of all numbers between 1 and 30 that are divisible by 5.**"
   ]
  },
  {
   "cell_type": "markdown",
   "id": "ac885e8d",
   "metadata": {},
   "source": [
    "_____\n",
    "**4. Go through the string below and if the length of a word is more then 5 letters print \"lengthy!\"**<br>\n",
    "     expected output:<br>\n",
    "     coding : lengthy<br>\n",
    "     is <br>\n",
    "     todays : lengthy <br>\n",
    "     language : lengthy <br>\n",
    "     of<br>\n",
    "     creativity : lengthy"
   ]
  },
  {
   "cell_type": "code",
   "execution_count": 2,
   "id": "0f6cdd90",
   "metadata": {},
   "outputs": [],
   "source": [
    "st1 = 'coding is todays language of creativity'"
   ]
  },
  {
   "cell_type": "markdown",
   "id": "7dcf6b94",
   "metadata": {},
   "source": [
    "____\n",
    "**5. Write a program that prints the integers from 1 to 30. But for multiples of four print \"Fizz\" instead of the number, and for the multiples of five print \"Buzz\". For numbers which are multiples of both four and five print \"FizzBuzz\".**"
   ]
  },
  {
   "cell_type": "markdown",
   "id": "a1f453a1",
   "metadata": {},
   "source": [
    "____\n",
    "**6. Use a List Comprehension to create a list of the first letters of every word in the string below:**"
   ]
  },
  {
   "cell_type": "code",
   "execution_count": 3,
   "id": "2c11b41b",
   "metadata": {},
   "outputs": [],
   "source": [
    "st = 'do more of what makes you happy'"
   ]
  }
 ],
 "metadata": {
  "kernelspec": {
   "display_name": "Python 3",
   "language": "python",
   "name": "python3"
  },
  "language_info": {
   "codemirror_mode": {
    "name": "ipython",
    "version": 3
   },
   "file_extension": ".py",
   "mimetype": "text/x-python",
   "name": "python",
   "nbconvert_exporter": "python",
   "pygments_lexer": "ipython3",
   "version": "3.8.8"
  }
 },
 "nbformat": 4,
 "nbformat_minor": 5
}
