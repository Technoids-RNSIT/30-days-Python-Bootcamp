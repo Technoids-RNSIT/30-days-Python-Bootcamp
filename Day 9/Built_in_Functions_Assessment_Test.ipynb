{
 "cells": [
  {
   "cell_type": "markdown",
   "metadata": {
    "id": "AQE_xFEYOdBe"
   },
   "source": [
    "# Built-in Functions Test \n",
    "\n",
    "### For this test, you should use built-in functions and be able to write the requested functions in one line."
   ]
  },
  {
   "cell_type": "markdown",
   "metadata": {
    "id": "cvaooyvpOdBj"
   },
   "source": [
    "### Problem 1\n",
    "\n",
    "Use map() to create a function which finds the length of each word in the phrase\n",
    "(broken by spaces) and returns the values in a list.\n",
    "\n",
    "The function will have an input of a string, and output a list of integers."
   ]
  },
  {
   "cell_type": "code",
   "execution_count": null,
   "metadata": {
    "id": "rQ3apkLLOdBl"
   },
   "outputs": [],
   "source": [
    "def word_lengths(phrase):\n",
    "    return #your code here"
   ]
  },
  {
   "cell_type": "code",
   "execution_count": null,
   "metadata": {
    "id": "Pwpb1EpmOdBm"
   },
   "outputs": [],
   "source": [
    "word_lengths('How long are the words in this phrase')"
   ]
  },
  {
   "cell_type": "markdown",
   "metadata": {
    "id": "v-C8NdtEOdBq"
   },
   "source": [
    "### Problem 2\n",
    "\n",
    "Use filter to return the words from a list of words which start with a target letter."
   ]
  },
  {
   "cell_type": "code",
   "execution_count": null,
   "metadata": {
    "id": "RTDBvn5NOdBr"
   },
   "outputs": [],
   "source": [
    "def filter_words(word_list, letter):\n",
    "    return #your code here"
   ]
  },
  {
   "cell_type": "code",
   "execution_count": null,
   "metadata": {
    "id": "p5X7bf5ZOdBs",
    "outputId": "cc157c55-b882-4c70-90e7-3ca1921334c7"
   },
   "outputs": [],
   "source": [
    "l = ['hello','are','cat','dog','ham','hi','go','to','heart']\n",
    "filter_words(l,'h')\n",
    "\n",
    "\n",
    "#hint : output will be a list of all words containing 'h'"
   ]
  },
  {
   "cell_type": "markdown",
   "metadata": {
    "id": "eH2ql1H-OdBt"
   },
   "source": [
    "### Problem 3\n",
    "\n",
    "Use zip() and a list comprehension to return a list of the same length where each value is the two strings from\n",
    "L1 and L2 concatenated together with connector between them. Look at the example output below:"
   ]
  },
  {
   "cell_type": "code",
   "execution_count": null,
   "metadata": {
    "id": "1jIMPhL_OdBt"
   },
   "outputs": [],
   "source": [
    "def concatenate(L1, L2, connector):\n",
    "    return #your code here\n",
    "    "
   ]
  },
  {
   "cell_type": "code",
   "execution_count": null,
   "metadata": {
    "id": "GQmL2hgGOdBu",
    "outputId": "bf27061b-d081-43f4-ee74-fac4c48e661b"
   },
   "outputs": [],
   "source": [
    "concatenate(['A','B'],['a','b'],'-')\n",
    "\n",
    "# Required output: ['A-a', 'B-b']"
   ]
  },
  {
   "cell_type": "markdown",
   "metadata": {
    "id": "bJK7Ea7XOdBu"
   },
   "source": [
    "### Problem 4\n",
    "\n",
    "Use enumerate() and other skills to return a dictionary which has the values of the list as keys and the index as the value. You may assume that a value will only appear once in the given list.\n"
   ]
  },
  {
   "cell_type": "code",
   "execution_count": null,
   "metadata": {
    "id": "9HXX3pngOdBv"
   },
   "outputs": [],
   "source": [
    "def d_list(L):\n",
    "    return #your code here"
   ]
  },
  {
   "cell_type": "code",
   "execution_count": null,
   "metadata": {
    "id": "fUiZLKbNOdBv",
    "outputId": "473087a6-bed6-43d2-88ab-0a8cfbfc6d84"
   },
   "outputs": [],
   "source": [
    "d_list(['a','b','c'])"
   ]
  },
  {
   "cell_type": "markdown",
   "metadata": {
    "id": "rKIN_7lAOdBv"
   },
   "source": [
    "### Problem 5\n",
    "\n",
    "Use enumerate() and other skills to return the count of the number of items in the list whose value equals its index.\n"
   ]
  },
  {
   "cell_type": "code",
   "execution_count": null,
   "metadata": {
    "id": "qDp688nmOdBw"
   },
   "outputs": [],
   "source": [
    "def count_match_index(L):\n",
    "    return #your code here"
   ]
  },
  {
   "cell_type": "code",
   "execution_count": null,
   "metadata": {
    "id": "yIU1HLjaOdBw",
    "outputId": "18a1edc8-ecd8-4688-f0ae-3f6357b26be8"
   },
   "outputs": [],
   "source": [
    "count_match_index([0,2,2,1,5,5,6,10])"
   ]
  },
  {
   "cell_type": "markdown",
   "metadata": {
    "id": "3xGxf_CFOdBw"
   },
   "source": [
    "### Problem 6\n",
    "Use all() or any() to return `True` if 'Cyan' is present in the list 'colorList'. What did you use all() or any() ? State Reason. "
   ]
  },
  {
   "cell_type": "code",
   "execution_count": null,
   "metadata": {},
   "outputs": [],
   "source": [
    "def colours(colorList):\n",
    "    return #your code here"
   ]
  },
  {
   "cell_type": "code",
   "execution_count": null,
   "metadata": {},
   "outputs": [],
   "source": [
    "colorList = ['Red','Blue', 'Green', 'Cyan', 'Yellow', 'White']\n",
    "colours(colorList)"
   ]
  },
  {
   "cell_type": "markdown",
   "metadata": {},
   "source": [
    "### Problem 7\n",
    "Write two examples each of abs(), eval(), complex() , print(), input(), hash() , ascii() , bin(). \n",
    "Refer documentation to read about any function. "
   ]
  },
  {
   "cell_type": "code",
   "execution_count": null,
   "metadata": {},
   "outputs": [],
   "source": [
    "#your answwer here"
   ]
  }
 ],
 "metadata": {
  "colab": {
   "name": "08-Built-in Functions Assessment Test.ipynb",
   "provenance": []
  },
  "kernelspec": {
   "display_name": "Python 3",
   "language": "python",
   "name": "python3"
  },
  "language_info": {
   "codemirror_mode": {
    "name": "ipython",
    "version": 3
   },
   "file_extension": ".py",
   "mimetype": "text/x-python",
   "name": "python",
   "nbconvert_exporter": "python",
   "pygments_lexer": "ipython3",
   "version": "3.8.8"
  }
 },
 "nbformat": 4,
 "nbformat_minor": 1
}
