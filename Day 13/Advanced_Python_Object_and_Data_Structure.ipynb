{
  "nbformat": 4,
  "nbformat_minor": 0,
  "metadata": {
    "colab": {
      "name": "Advanced Python Object and Data Structure.ipynb",
      "provenance": []
    },
    "kernelspec": {
      "display_name": "Python 3",
      "name": "python3"
    },
    "language_info": {
      "name": "python"
    }
  },
  "cells": [
    {
      "cell_type": "markdown",
      "metadata": {
        "id": "EUfOnX4mt5uh"
      },
      "source": [
        "# Number Conversion"
      ]
    },
    {
      "cell_type": "markdown",
      "metadata": {
        "id": "EvAh3BIBy9kR"
      },
      "source": [
        "Number base - A number base is the number of digits that a system of counting uses to represent numerical values"
      ]
    },
    {
      "cell_type": "markdown",
      "metadata": {
        "id": "aEA0Yl6N1C4b"
      },
      "source": [
        "*  Decimal system(base = 10) -\n",
        "\n",
        "> Indented block\n",
        "\n",
        "\n",
        "*  Binary system(base = 2) - uses bin() and ‘0b’\n",
        "*  Hexadecimal System(base = 16) - uses hex() and ‘0x’\n",
        "*  Octal system(base = 8) - uses oct() and ‘0o’.\n",
        "\n",
        "\n"
      ]
    },
    {
      "cell_type": "code",
      "metadata": {
        "id": "Hc-45C2Sw0Yf"
      },
      "source": [
        "no_1 = 20\n",
        "no_2 = 0b10100\n",
        "no_3 = 0x14 #hexadecimalis from 0-9 and A-F (ie A is 10 and F is 15)\n",
        "no_4 = 0o24 #Octal from 0-9"
      ],
      "execution_count": null,
      "outputs": []
    },
    {
      "cell_type": "code",
      "metadata": {
        "id": "jbK8ceiWw1-F"
      },
      "source": [
        "print(no_1,no_2,no_3,no_4)"
      ],
      "execution_count": null,
      "outputs": []
    },
    {
      "cell_type": "code",
      "metadata": {
        "id": "UuOeKTokw17z"
      },
      "source": [
        "print(int(20), bin(20), hex(20), oct(20))"
      ],
      "execution_count": null,
      "outputs": []
    },
    {
      "cell_type": "code",
      "metadata": {
        "id": "Pkx0UMKnw15V"
      },
      "source": [
        " sum1 = no_1 + no_2\n",
        " print(sum1)"
      ],
      "execution_count": null,
      "outputs": []
    },
    {
      "cell_type": "code",
      "metadata": {
        "id": "O_nGjJWKw12w"
      },
      "source": [
        "print(bin(sum1))"
      ],
      "execution_count": null,
      "outputs": []
    },
    {
      "cell_type": "code",
      "metadata": {
        "id": "g-1uUEkJwuRT"
      },
      "source": [
        "type(no_2)"
      ],
      "execution_count": null,
      "outputs": []
    },
    {
      "cell_type": "code",
      "metadata": {
        "id": "bEqjlrW16tCo"
      },
      "source": [
        "#sum2 = int(no_2, 2) + int(no_3, 16)"
      ],
      "execution_count": null,
      "outputs": []
    },
    {
      "cell_type": "code",
      "metadata": {
        "id": "G8RNo88mw10a"
      },
      "source": [
        "no_1 = 20\n",
        "no_2 = \"0b10100\"\n",
        "no_3 = \"0x14\"\n",
        "no_4 = \"0o24\""
      ],
      "execution_count": null,
      "outputs": []
    },
    {
      "cell_type": "code",
      "metadata": {
        "id": "ipSf6IF32pIk"
      },
      "source": [
        "print(type(no_2))"
      ],
      "execution_count": null,
      "outputs": []
    },
    {
      "cell_type": "code",
      "metadata": {
        "id": "MfMe6Lu06dLC"
      },
      "source": [
        "print(no_2, no_3, no_4)"
      ],
      "execution_count": null,
      "outputs": []
    },
    {
      "cell_type": "code",
      "metadata": {
        "id": "4ej1yyuk6-qb"
      },
      "source": [
        "sum2 = int(no_2, 2) + int(no_3, 16)\n",
        "print(sum2)"
      ],
      "execution_count": null,
      "outputs": []
    },
    {
      "cell_type": "code",
      "metadata": {
        "id": "Dhm-YXPH6_2P"
      },
      "source": [
        "print(bin(sum2))"
      ],
      "execution_count": null,
      "outputs": []
    },
    {
      "cell_type": "markdown",
      "metadata": {
        "id": "qlIvMjtt7so8"
      },
      "source": [
        "Some built-in function"
      ]
    },
    {
      "cell_type": "code",
      "metadata": {
        "id": "LXrd-u1Tw1xj"
      },
      "source": [
        "print(pow(2,4)) #x^y"
      ],
      "execution_count": null,
      "outputs": []
    },
    {
      "cell_type": "code",
      "metadata": {
        "id": "zIg6KBcWw1u4"
      },
      "source": [
        "print(pow(2,4,5)) #(x^y)%z"
      ],
      "execution_count": null,
      "outputs": []
    },
    {
      "cell_type": "code",
      "metadata": {
        "id": "ZKVhBDgbw1ox"
      },
      "source": [
        "print(abs(3 + 4j))"
      ],
      "execution_count": null,
      "outputs": []
    },
    {
      "cell_type": "code",
      "metadata": {
        "colab": {
          "background_save": true
        },
        "id": "foBoBd7l82Ng"
      },
      "source": [
        "round(3.6)"
      ],
      "execution_count": null,
      "outputs": []
    },
    {
      "cell_type": "code",
      "metadata": {
        "id": "FbYUfCsU2vuF"
      },
      "source": [
        "round(3,2)"
      ],
      "execution_count": null,
      "outputs": []
    },
    {
      "cell_type": "code",
      "metadata": {
        "id": "cgGNtdHF8UUU"
      },
      "source": [
        "round(3.1415926535,3)"
      ],
      "execution_count": null,
      "outputs": []
    },
    {
      "cell_type": "code",
      "metadata": {
        "id": "OpJAA4kV8VAJ"
      },
      "source": [
        "round(1501,-3) #closest multiple of 100"
      ],
      "execution_count": null,
      "outputs": []
    },
    {
      "cell_type": "markdown",
      "metadata": {
        "id": "_IqMo97UuYoP"
      },
      "source": [
        "# String Methods"
      ]
    },
    {
      "cell_type": "code",
      "metadata": {
        "id": "LBnuxQNpw8X3"
      },
      "source": [
        "str1 = \"hi, My name is Aman Singh\"\n",
        "str2 = \"Technoids\""
      ],
      "execution_count": null,
      "outputs": []
    },
    {
      "cell_type": "code",
      "metadata": {
        "id": "8dSgHYo1w9Gf"
      },
      "source": [
        "print(str1.upper())"
      ],
      "execution_count": null,
      "outputs": []
    },
    {
      "cell_type": "code",
      "metadata": {
        "id": "P2fWZi7Pw9CU"
      },
      "source": [
        "print(str1.lower())"
      ],
      "execution_count": null,
      "outputs": []
    },
    {
      "cell_type": "code",
      "metadata": {
        "id": "M4kcjn6rG9s1"
      },
      "source": [
        "print(str1.casefold())#the German lowercase letter 'ß' is equivalent to 'ss' ."
      ],
      "execution_count": null,
      "outputs": []
    },
    {
      "cell_type": "code",
      "metadata": {
        "id": "3dmSjODgw88M"
      },
      "source": [
        "print(str1.capitalize())"
      ],
      "execution_count": null,
      "outputs": []
    },
    {
      "cell_type": "code",
      "metadata": {
        "id": "6duhhauFB44x"
      },
      "source": [
        "print(str1.split('i'))"
      ],
      "execution_count": null,
      "outputs": []
    },
    {
      "cell_type": "code",
      "metadata": {
        "id": "gkvy05JCB6Y5"
      },
      "source": [
        "print(str1.partition('i'))"
      ],
      "execution_count": null,
      "outputs": []
    },
    {
      "cell_type": "code",
      "metadata": {
        "id": "jVuggGOZCV4w"
      },
      "source": [
        "print(str1.count(\"i\"))"
      ],
      "execution_count": null,
      "outputs": []
    },
    {
      "cell_type": "code",
      "metadata": {
        "id": "rmdAbioUCcRb"
      },
      "source": [
        "print(str1.find(\"i\"))"
      ],
      "execution_count": null,
      "outputs": []
    },
    {
      "cell_type": "code",
      "metadata": {
        "id": "uQH_NNz_w85Y"
      },
      "source": [
        "print(str1) #immutable"
      ],
      "execution_count": null,
      "outputs": []
    },
    {
      "cell_type": "code",
      "metadata": {
        "id": "6NWhEUefw82u"
      },
      "source": [
        "print(str1.isalnum())"
      ],
      "execution_count": null,
      "outputs": []
    },
    {
      "cell_type": "code",
      "metadata": {
        "id": "pYuaEqUM-5QD"
      },
      "source": [
        "print(str1.isalpha())"
      ],
      "execution_count": null,
      "outputs": []
    },
    {
      "cell_type": "code",
      "metadata": {
        "id": "O46GQX3--5NN"
      },
      "source": [
        "print(str1.islower())"
      ],
      "execution_count": null,
      "outputs": []
    },
    {
      "cell_type": "code",
      "metadata": {
        "id": "f0SbRnVkAHtq"
      },
      "source": [
        "print(str1.isupper())"
      ],
      "execution_count": null,
      "outputs": []
    },
    {
      "cell_type": "code",
      "metadata": {
        "id": "HrlYfknt-5KD"
      },
      "source": [
        "print(str1.isspace())"
      ],
      "execution_count": null,
      "outputs": []
    },
    {
      "cell_type": "code",
      "metadata": {
        "id": "rjaNXyg9-5HZ"
      },
      "source": [
        "print(str2.istitle())"
      ],
      "execution_count": null,
      "outputs": []
    },
    {
      "cell_type": "code",
      "metadata": {
        "id": "OFfgq29e_AwL"
      },
      "source": [
        "print(str1.endswith('s'))"
      ],
      "execution_count": null,
      "outputs": []
    },
    {
      "cell_type": "code",
      "metadata": {
        "id": "ciXqOySqsg5u"
      },
      "source": [
        "print(str1.replace(\"hi\",\"Hello\"))"
      ],
      "execution_count": null,
      "outputs": []
    },
    {
      "cell_type": "markdown",
      "metadata": {
        "id": "IelqxotnHKS3"
      },
      "source": [
        "https://www.w3schools.com/python/python_ref_string.asp"
      ]
    },
    {
      "cell_type": "markdown",
      "metadata": {
        "id": "HNFe6wJhMCIb"
      },
      "source": [
        "#List Methods"
      ]
    },
    {
      "cell_type": "code",
      "metadata": {
        "id": "Pg6-6wKEMXbG"
      },
      "source": [
        "lst = [1,2,3,4,5]"
      ],
      "execution_count": null,
      "outputs": []
    },
    {
      "cell_type": "code",
      "metadata": {
        "id": "30rrkyccMXY9"
      },
      "source": [
        "lst.append(4)\n",
        "print(lst)"
      ],
      "execution_count": null,
      "outputs": []
    },
    {
      "cell_type": "code",
      "metadata": {
        "id": "uBJ2py0jvWqp"
      },
      "source": [
        "lst.append([6,7])\n",
        "print(lst)\n",
        "lst.extend([6,7])\n",
        "print(lst)"
      ],
      "execution_count": null,
      "outputs": []
    },
    {
      "cell_type": "code",
      "metadata": {
        "id": "o7FRuk2CvXw6"
      },
      "source": [
        "print(lst.count(4))"
      ],
      "execution_count": null,
      "outputs": []
    },
    {
      "cell_type": "code",
      "metadata": {
        "id": "xlK5oQlwMXVn"
      },
      "source": [
        "print(lst.index(4))"
      ],
      "execution_count": null,
      "outputs": []
    },
    {
      "cell_type": "code",
      "metadata": {
        "id": "dsS30dSoMXTn"
      },
      "source": [
        "lst.insert(2,\"number\")\n",
        "print(lst)"
      ],
      "execution_count": null,
      "outputs": []
    },
    {
      "cell_type": "code",
      "metadata": {
        "id": "aTWOVy6OyGt9"
      },
      "source": [
        "x = lst.pop()\n",
        "print(x)\n",
        "print(lst)"
      ],
      "execution_count": null,
      "outputs": []
    },
    {
      "cell_type": "code",
      "metadata": {
        "id": "hGbVPufGyGqw"
      },
      "source": [
        "lst.remove(3)\n",
        "print(lst)"
      ],
      "execution_count": null,
      "outputs": []
    },
    {
      "cell_type": "code",
      "metadata": {
        "id": "oPrASqHRMXRB"
      },
      "source": [
        "lst.reverse()\n",
        "print(lst)"
      ],
      "execution_count": null,
      "outputs": []
    },
    {
      "cell_type": "code",
      "metadata": {
        "id": "z7gixI4jMXNv"
      },
      "source": [
        "lst = [1,5,8,34,56]\n",
        "lst.sort()\n",
        "print(lst)"
      ],
      "execution_count": null,
      "outputs": []
    },
    {
      "cell_type": "code",
      "metadata": {
        "id": "U-Lkoc-CMXKr"
      },
      "source": [
        "lst.sort(reverse = True)\n",
        "print(lst)"
      ],
      "execution_count": null,
      "outputs": []
    },
    {
      "cell_type": "markdown",
      "metadata": {
        "id": "p8drDlOC0WVB"
      },
      "source": [
        "https://www.w3schools.com/python/python_lists_methods.asp"
      ]
    },
    {
      "cell_type": "markdown",
      "metadata": {
        "id": "kgyU0DLbMFg_"
      },
      "source": [
        "#Dictionary Methods"
      ]
    },
    {
      "cell_type": "code",
      "metadata": {
        "id": "Z54P2TgtMYLY"
      },
      "source": [
        "dict_1 = {'RNSIT':1,'Technoids':2}"
      ],
      "execution_count": null,
      "outputs": []
    },
    {
      "cell_type": "code",
      "metadata": {
        "id": "r1LN7imrMYJK"
      },
      "source": [
        "for fir in dict_1.keys():\n",
        "    print(fir)"
      ],
      "execution_count": null,
      "outputs": []
    },
    {
      "cell_type": "code",
      "metadata": {
        "id": "UqaWsPv_MYGi"
      },
      "source": [
        "for sec in dict_1.values():\n",
        "    print(sec)"
      ],
      "execution_count": null,
      "outputs": []
    },
    {
      "cell_type": "code",
      "metadata": {
        "id": "AyUl7hiOMYCB"
      },
      "source": [
        "for item in dict_1.items():\n",
        "    print(item)"
      ],
      "execution_count": null,
      "outputs": []
    },
    {
      "cell_type": "code",
      "metadata": {
        "id": "_a2pmvHMMX_R"
      },
      "source": [
        "a = dict_1.keys()\n",
        "\n",
        "print(a)"
      ],
      "execution_count": null,
      "outputs": []
    },
    {
      "cell_type": "code",
      "metadata": {
        "id": "-zcaXG6l6jNq"
      },
      "source": [
        "type(a)"
      ],
      "execution_count": null,
      "outputs": []
    },
    {
      "cell_type": "code",
      "metadata": {
        "id": "ClRCSLDJXRXV"
      },
      "source": [
        "dict_2 = {2:19,6:36,4:16}"
      ],
      "execution_count": null,
      "outputs": []
    },
    {
      "cell_type": "code",
      "metadata": {
        "id": "Y7yYwBeAnCyX"
      },
      "source": [
        "print(sorted(dict_2.keys()))"
      ],
      "execution_count": null,
      "outputs": []
    },
    {
      "cell_type": "code",
      "metadata": {
        "id": "9U1oRa1NnCrK"
      },
      "source": [
        "print(sorted(dict_2.values()))"
      ],
      "execution_count": null,
      "outputs": []
    },
    {
      "cell_type": "markdown",
      "metadata": {
        "id": "eS5goiHzuYlR"
      },
      "source": [
        "# Set Methods"
      ]
    },
    {
      "cell_type": "code",
      "metadata": {
        "id": "DuQk2JNYtflD"
      },
      "source": [
        "s1 = {1,2,3,4}"
      ],
      "execution_count": null,
      "outputs": []
    },
    {
      "cell_type": "code",
      "metadata": {
        "id": "2WwJWHU5ILaK"
      },
      "source": [
        "print(s1)"
      ],
      "execution_count": null,
      "outputs": []
    },
    {
      "cell_type": "code",
      "metadata": {
        "id": "i7pCQb7UH_kG"
      },
      "source": [
        "lst = [1,2,3,4,5]"
      ],
      "execution_count": null,
      "outputs": []
    },
    {
      "cell_type": "code",
      "metadata": {
        "id": "YBK-EsLvIEng"
      },
      "source": [
        "s2 = set(lst)"
      ],
      "execution_count": null,
      "outputs": []
    },
    {
      "cell_type": "code",
      "metadata": {
        "id": "KFfQcXeLIIhJ"
      },
      "source": [
        "print(s2)"
      ],
      "execution_count": null,
      "outputs": []
    },
    {
      "cell_type": "code",
      "metadata": {
        "id": "-yuzINOYINBY"
      },
      "source": [
        "s1.add(10)"
      ],
      "execution_count": null,
      "outputs": []
    },
    {
      "cell_type": "code",
      "metadata": {
        "id": "iEFQ0EaxIhv_"
      },
      "source": [
        "print(s1)"
      ],
      "execution_count": null,
      "outputs": []
    },
    {
      "cell_type": "code",
      "metadata": {
        "id": "UWpEB8hoLwia"
      },
      "source": [
        "s1.pop()"
      ],
      "execution_count": null,
      "outputs": []
    },
    {
      "cell_type": "code",
      "metadata": {
        "id": "gAUG3iZ-IhqU"
      },
      "source": [
        "#s1.clear()"
      ],
      "execution_count": null,
      "outputs": []
    },
    {
      "cell_type": "code",
      "metadata": {
        "id": "y1EZx5GGIhnV"
      },
      "source": [
        "#print(s1)"
      ],
      "execution_count": null,
      "outputs": []
    },
    {
      "cell_type": "code",
      "metadata": {
        "id": "DAFpWjbKIhjY"
      },
      "source": [
        "s3 = s2.copy()"
      ],
      "execution_count": null,
      "outputs": []
    },
    {
      "cell_type": "code",
      "metadata": {
        "id": "AV7iJuNXtH3-"
      },
      "source": [
        "print(s3)"
      ],
      "execution_count": null,
      "outputs": []
    },
    {
      "cell_type": "code",
      "metadata": {
        "id": "5biQpuqtJe6Q"
      },
      "source": [
        "s1.discard(2)\n",
        "print(s1)"
      ],
      "execution_count": null,
      "outputs": []
    },
    {
      "cell_type": "code",
      "metadata": {
        "id": "oHkfv-lzJ7HN"
      },
      "source": [
        "s1 = {1,2,3,4}"
      ],
      "execution_count": null,
      "outputs": []
    },
    {
      "cell_type": "code",
      "metadata": {
        "id": "5NPHp6X3J8OE"
      },
      "source": [
        "s2 = {1,2,3,4,5}"
      ],
      "execution_count": null,
      "outputs": []
    },
    {
      "cell_type": "code",
      "metadata": {
        "id": "0q5GyC2NJkeS"
      },
      "source": [
        "print(s1.intersection(s2))"
      ],
      "execution_count": null,
      "outputs": []
    },
    {
      "cell_type": "code",
      "metadata": {
        "id": "B2Qp-MG1Jkbw"
      },
      "source": [
        "print(s1)"
      ],
      "execution_count": null,
      "outputs": []
    },
    {
      "cell_type": "code",
      "metadata": {
        "id": "ytHpQV_0JkZW"
      },
      "source": [
        "print(s2)"
      ],
      "execution_count": null,
      "outputs": []
    },
    {
      "cell_type": "code",
      "metadata": {
        "id": "85HbQN7EJkW7"
      },
      "source": [
        "print(s1.intersection(s2))"
      ],
      "execution_count": null,
      "outputs": []
    },
    {
      "cell_type": "code",
      "metadata": {
        "id": "C3b7hixaJkT5"
      },
      "source": [
        "print(s1)"
      ],
      "execution_count": null,
      "outputs": []
    },
    {
      "cell_type": "code",
      "metadata": {
        "id": "1MLkyURkKbob"
      },
      "source": [
        "print(s2)"
      ],
      "execution_count": null,
      "outputs": []
    },
    {
      "cell_type": "code",
      "metadata": {
        "id": "9nZtM1QeKbat"
      },
      "source": [
        "print(s1.union(s2))"
      ],
      "execution_count": null,
      "outputs": []
    },
    {
      "cell_type": "code",
      "metadata": {
        "id": "gQS9DOO7LUCv"
      },
      "source": [
        "s1.update(s2)"
      ],
      "execution_count": null,
      "outputs": []
    },
    {
      "cell_type": "code",
      "metadata": {
        "id": "DGWCHWeQLUAD"
      },
      "source": [
        "print(s1)"
      ],
      "execution_count": null,
      "outputs": []
    },
    {
      "cell_type": "markdown",
      "metadata": {
        "id": "k3CiVFnaLpB0"
      },
      "source": [
        "https://www.w3schools.com/python/python_ref_set.asp"
      ]
    }
  ]
}