{
  "nbformat": 4,
  "nbformat_minor": 0,
  "metadata": {
    "colab": {
      "name": "Day 13_ Advanced Python Objects and DS.ipynb",
      "provenance": []
    },
    "kernelspec": {
      "name": "python3",
      "display_name": "Python 3"
    },
    "language_info": {
      "name": "python"
    }
  },
  "cells": [
    {
      "cell_type": "markdown",
      "metadata": {
        "id": "Y-YRyyVa1UYk"
      },
      "source": [
        "#Assignment"
      ]
    },
    {
      "cell_type": "markdown",
      "metadata": {
        "id": "bNPpN1OgdubJ"
      },
      "source": [
        "Q1)Create a function which takes two hexadecimal system input and return the multiplication in binary?\n",
        "\n",
        "Q2)Output of -\n",
        "*   round(7.416989,2)\n",
        "*   abs(1j + 1)\n",
        "\n",
        "\n",
        "*   str1 = \"Your Lie in April\"\n",
        "\n",
        "    str1.split()\n",
        "\n",
        "    print(str1)\n",
        "\n",
        "Q3) Create a string with your name and your ambition.Perform the following operation-\n",
        "\n",
        "\n",
        "\n",
        "1.   Count the number of \"a\" and its index value?\n",
        "2.   Add a new goal/ambition\n",
        "3.   Replace the previous ambition with another ambition\n",
        "4.   Seperate the two ambitions(in list)\n",
        "\n",
        "Q4)Make a list of random numbers and do the following operation\n",
        "* write your favourite number as comment\n",
        "*   Remove last number and add your favourite number\n",
        "*   Count your favourite number in list and its index value\n",
        "*   Sort the list in reverse order and tell your favourite number index value \n",
        "\n",
        "\n",
        "\n",
        "\n",
        "\n",
        "Q5) Make a dictionary of cities you wanna visit with a value in order of prirority(make it randomly) and sort it afterwards.\n",
        "\n",
        "Q6) https://www.cimt.org.uk/projects/mepres/book7/bk7i1/s3eg2.gif\n",
        "\n",
        "Use this image to make the sets A and B\n",
        "\n",
        "\n",
        "*   Find the intersection and union of sets\n",
        "*   Add the universal set elements to set A\n",
        "\n",
        "\n",
        "\n",
        "\n",
        "\n",
        "\n",
        "\n",
        "\n",
        "\n",
        "\n",
        "\n",
        "\n",
        "\n",
        "  "
      ]
    },
    {
      "cell_type": "code",
      "metadata": {
        "id": "TfQVWSZv1IuA"
      },
      "source": [
        ""
      ],
      "execution_count": null,
      "outputs": []
    }
  ]
}