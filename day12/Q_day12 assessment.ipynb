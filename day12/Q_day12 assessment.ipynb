{
 "cells": [
  {
   "cell_type": "markdown",
   "id": "717425e5",
   "metadata": {},
   "source": [
    "## DAY 12 ASSESSMENT\n",
    "___"
   ]
  },
  {
   "cell_type": "markdown",
   "id": "c9756f1f",
   "metadata": {},
   "source": [
    "**1. Write a Python program to find the occurrences of 5 most common words in a given text.**\n",
    "\n",
    "string= 'Python was first introduced by Guido Van Rossum in 1991at the National Research Institute for Mathematics and Computer Science, Netherlands. Though the language was introduced in 1991, the development began in the 1980s. Previously van Rossum worked on the ABC language at Centrum Wiskunde & Informatica (CWI)in the Netherlands. '\n",
    "\n",
    "output: [('the', 6), ('in', 3), ('was', 2), ('introduced', 2), ('Rossum', 2)]"
   ]
  },
  {
   "cell_type": "code",
   "execution_count": null,
   "id": "96dcc409",
   "metadata": {},
   "outputs": [],
   "source": [
    "string= 'Python was first introduced by Guido Van Rossum in 1991at the National Research Institute for Mathematics and Computer Science, Netherlands. Though the language was introduced in 1991, the development began in the 1980s. Previously van Rossum worked on the ABC language at Centrum Wiskunde & Informatica (CWI)in the Netherlands. '"
   ]
  },
  {
   "cell_type": "markdown",
   "id": "e95cd906",
   "metadata": {},
   "source": [
    "___\n",
    "**2. using counter get the unique elements from the list**<br><br>input: [1,1,1,2,2,2,3,3,3,8,6,5,5,9]<br>output:[1, 2, 3, 8, 6, 5, 9]\n",
    "___"
   ]
  },
  {
   "cell_type": "markdown",
   "id": "c00e5e55",
   "metadata": {},
   "source": [
    "\n",
    "**3. Write a Python script to display the various Date Time formats.**<br><br>\n",
    "\n",
    "a) Current date and time<br>\n",
    "b) Current year<br>\n",
    "c) Month of year<br>\n",
    "d) Current Date<br>\n",
    "e) Hour <br>\n",
    "f) Minute <br>\n",
    "g) seconds<br>\n",
    "h) Microseconds<br>"
   ]
  },
  {
   "cell_type": "markdown",
   "id": "af432d25",
   "metadata": {},
   "source": [
    "___\n",
    "**4.  Write a Python program to search some literals strings in a string.If literal is present output 'matched' else 'not matched'**<br>\n",
    "Sample text : 'The quick brown fox jumps over the lazy dog.'<br>\n",
    "Searched words : 'fox', 'dog', 'horse'\n",
    "___"
   ]
  },
  {
   "cell_type": "markdown",
   "id": "07560a87",
   "metadata": {},
   "source": [
    "\n",
    "**5. Write a Python program to find the sequences of one upper case letter followed by lower case letters.**<br><br>string1= 'Python is fast enough for our site and Allows us to produce Maintainable features in record times, with a minimum of Developers"
   ]
  },
  {
   "cell_type": "code",
   "execution_count": 1,
   "id": "64456f1c",
   "metadata": {},
   "outputs": [],
   "source": [
    "string1='Python is fast enough for our site and Allows us to produce Maintainable features in record times, with a minimum of Developers'"
   ]
  },
  {
   "cell_type": "markdown",
   "id": "6a7fa80e",
   "metadata": {},
   "source": [
    "___\n",
    "**6. use stringIO method to get the following output**<br><br>input: 'Hello. Have a nice day'<br>output: 'Have a nice day'\n",
    "___"
   ]
  }
 ],
 "metadata": {
  "kernelspec": {
   "display_name": "Python 3",
   "language": "python",
   "name": "python3"
  },
  "language_info": {
   "codemirror_mode": {
    "name": "ipython",
    "version": 3
   },
   "file_extension": ".py",
   "mimetype": "text/x-python",
   "name": "python",
   "nbconvert_exporter": "python",
   "pygments_lexer": "ipython3",
   "version": "3.8.8"
  }
 },
 "nbformat": 4,
 "nbformat_minor": 5
}
