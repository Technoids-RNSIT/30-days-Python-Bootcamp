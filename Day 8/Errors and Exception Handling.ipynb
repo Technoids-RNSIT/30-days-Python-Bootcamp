{
 "cells": [
  {
   "cell_type": "markdown",
   "id": "bf754801",
   "metadata": {},
   "source": [
    "# Errors and Exception Handling\n",
    "\n",
    "In this lecture we will learn about Errors and Exception Handling in Python. You've definitely already encountered errors by this point in the course.\n"
   ]
  },
  {
   "cell_type": "markdown",
   "id": "aa955307",
   "metadata": {},
   "source": [
    "There are 3 types of errors Compilation Error , Logical Error and RunTime Error"
   ]
  },
  {
   "cell_type": "markdown",
   "id": "72ccd8cf",
   "metadata": {},
   "source": [
    "# Compilation Error:\n",
    "If there is any syntax error then program stops compiling when error is found and program will be Executed. For Example:"
   ]
  },
  {
   "cell_type": "code",
   "execution_count": 4,
   "id": "30b79ac9",
   "metadata": {},
   "outputs": [
    {
     "ename": "SyntaxError",
     "evalue": "unexpected EOF while parsing (<ipython-input-4-042585bf8ab1>, line 3)",
     "output_type": "error",
     "traceback": [
      "\u001b[0;36m  File \u001b[0;32m\"<ipython-input-4-042585bf8ab1>\"\u001b[0;36m, line \u001b[0;32m3\u001b[0m\n\u001b[0;31m    print(x\u001b[0m\n\u001b[0m           ^\u001b[0m\n\u001b[0;31mSyntaxError\u001b[0m\u001b[0;31m:\u001b[0m unexpected EOF while parsing\n"
     ]
    }
   ],
   "source": [
    "x=5\n",
    "if x>5:\n",
    "    print(x"
   ]
  },
  {
   "cell_type": "markdown",
   "id": "ac381112",
   "metadata": {},
   "source": [
    "Note how we get a SyntaxError, ith the further description that it was an EOL (End of Line Error) while scanning the string literal. This is specific enough for us to see that we forgot to close the parenthesis at the end of the line.\n",
    "\n",
    "You can check out the full list of built-in exceptions [here](https://docs.python.org/3/library/exceptions.html). Now let's learn how to handle errors and exceptions in our own code.\n"
   ]
  },
  {
   "cell_type": "markdown",
   "id": "d9960c4a",
   "metadata": {},
   "source": [
    "# Next Type of error is the Logical Error.\n",
    "Here The program gets Compiled and Runs smoothly but We do not get the Expected answer.\n",
    "\n",
    "For Example:"
   ]
  },
  {
   "cell_type": "code",
   "execution_count": 6,
   "id": "7bf11957",
   "metadata": {},
   "outputs": [
    {
     "name": "stdout",
     "output_type": "stream",
     "text": [
      "-1\n"
     ]
    }
   ],
   "source": [
    "#program to get addition of x and y\n",
    "x=5\n",
    "y=6\n",
    "print(x-y)"
   ]
  },
  {
   "cell_type": "markdown",
   "id": "30173915",
   "metadata": {},
   "source": [
    "# Finally RunTime Error\n",
    "This error occurs when the user gives an wrong input or if there is any file missing or other mistakes done by Users.\n",
    "\n",
    "For Example:\n"
   ]
  },
  {
   "cell_type": "code",
   "execution_count": 9,
   "id": "f768b665",
   "metadata": {},
   "outputs": [
    {
     "ename": "ZeroDivisionError",
     "evalue": "division by zero",
     "output_type": "error",
     "traceback": [
      "\u001b[0;31m---------------------------------------------------------------------------\u001b[0m",
      "\u001b[0;31mZeroDivisionError\u001b[0m                         Traceback (most recent call last)",
      "\u001b[0;32m<ipython-input-9-ec044a842940>\u001b[0m in \u001b[0;36m<module>\u001b[0;34m\u001b[0m\n\u001b[1;32m      2\u001b[0m \u001b[0my\u001b[0m\u001b[0;34m=\u001b[0m\u001b[0;36m0\u001b[0m\u001b[0;34m;\u001b[0m\u001b[0;34m\u001b[0m\u001b[0;34m\u001b[0m\u001b[0m\n\u001b[1;32m      3\u001b[0m \u001b[0;34m\u001b[0m\u001b[0m\n\u001b[0;32m----> 4\u001b[0;31m \u001b[0mprint\u001b[0m\u001b[0;34m(\u001b[0m\u001b[0mx\u001b[0m\u001b[0;34m/\u001b[0m\u001b[0my\u001b[0m\u001b[0;34m)\u001b[0m\u001b[0;34m\u001b[0m\u001b[0;34m\u001b[0m\u001b[0m\n\u001b[0m",
      "\u001b[0;31mZeroDivisionError\u001b[0m: division by zero"
     ]
    }
   ],
   "source": [
    "x=5;\n",
    "y=0;\n",
    "\n",
    "print(x/y)\n"
   ]
  },
  {
   "cell_type": "markdown",
   "id": "712bce6d",
   "metadata": {},
   "source": [
    "If we are creating program for dividing 2 numbers. User can give any input but if denominator is zero then program gives an error and stops executing in the middle.\n",
    "\n",
    "To Handle this type of error we use try and except"
   ]
  },
  {
   "cell_type": "markdown",
   "id": "1643ee28",
   "metadata": {},
   "source": [
    "## try and except\n",
    "The basic terminology and syntax used to handle errors in Python are the <code>try</code> and <code>except</code> statements. The code which can cause an exception to occur is put in the <code>try</code> block and the handling of the exception is then implemented in the <code>except</code> block of code. The syntax follows:\n",
    "\n",
    "    try:\n",
    "       You do your operations here...\n",
    "       ...\n",
    "    except ExceptionI:\n",
    "       If there is ExceptionI, then execute this block.\n",
    "    except ExceptionII:\n",
    "       If there is ExceptionII, then execute this block.\n",
    "       ...\n",
    "    else:\n",
    "       If there is no exception then execute this block.\n",
    "We can also just check for any exception with just using <code>except:</code> To get a better understanding of all this let's check out an example:\n",
    "We will look at some code that opens and writes a file:\n",
    "\n"
   ]
  },
  {
   "cell_type": "code",
   "execution_count": 35,
   "id": "4164ddb6",
   "metadata": {},
   "outputs": [
    {
     "name": "stdout",
     "output_type": "stream",
     "text": [
      "Some files are missing  [Errno 2] No such file or directory: 't.txt'\n",
      "bye\n"
     ]
    }
   ],
   "source": [
    "try:\n",
    "    f = open('t.txt')\n",
    "   \n",
    "except FileNotFoundError as e :\n",
    "    print(\"Some files are missing \",e)\n",
    "else:\n",
    "    print(f.read())\n",
    "    f.close()\n",
    "print(\"bye\")\n",
    "    "
   ]
  },
  {
   "cell_type": "markdown",
   "id": "911a3793",
   "metadata": {},
   "source": [
    "Notice how we only printed a statement! The code still ran and we were able to continue doing actions and running code blocks. This is extremely useful when you have to account for possible input errors in your code. You can be prepared for the error and keep running code, instead of your code just breaking as we saw above."
   ]
  },
  {
   "cell_type": "code",
   "execution_count": 34,
   "id": "1f40fff4",
   "metadata": {},
   "outputs": [
    {
     "name": "stdout",
     "output_type": "stream",
     "text": [
      "Hey, how you doin?\n",
      "bye\n"
     ]
    }
   ],
   "source": [
    "try:\n",
    "    f = open('test.txt') #we have test.txt file\n",
    "except FileNotFoundError as e :\n",
    "    print(\"Some files are missing \",e)\n",
    "else:\n",
    "    print(f.read())\n",
    "    f.close()\n",
    "print(\"bye\")"
   ]
  },
  {
   "cell_type": "markdown",
   "id": "da06aebe",
   "metadata": {},
   "source": [
    "we can give more than one except statement\n",
    "\n",
    "For Example:"
   ]
  },
  {
   "cell_type": "code",
   "execution_count": 45,
   "id": "e38131e8",
   "metadata": {},
   "outputs": [
    {
     "name": "stdout",
     "output_type": "stream",
     "text": [
      "division by zero\n",
      "bye\n"
     ]
    }
   ],
   "source": [
    "try:\n",
    "    f = open('test.txt') #we have test.txt file\n",
    "    print(5/0)\n",
    "except FileNotFoundError as e :\n",
    "    print(\"some files are missing\",e)\n",
    "except ZeroDivisionError as e:\n",
    "    print(\"hey you can not divide by zero\",e)\n",
    "else:\n",
    "    print(f.read())\n",
    "    f.close()\n",
    "print(\"bye\")"
   ]
  },
  {
   "cell_type": "markdown",
   "id": "4c00e7ac",
   "metadata": {},
   "source": [
    "We can have a general exception"
   ]
  },
  {
   "cell_type": "code",
   "execution_count": 44,
   "id": "284f51f9",
   "metadata": {},
   "outputs": [
    {
     "name": "stdout",
     "output_type": "stream",
     "text": [
      "division by zero\n",
      "bye\n"
     ]
    }
   ],
   "source": [
    "try:\n",
    "    f = open('test.txt') #we have test.txt file\n",
    "    print(5/0)\n",
    "except Exception as e :\n",
    "    print(e)\n",
    "else:\n",
    "    print(f.read())\n",
    "    f.close()\n",
    "print(\"bye\")"
   ]
  },
  {
   "cell_type": "markdown",
   "id": "31beaa90",
   "metadata": {},
   "source": [
    "Great! Now we don't actually need to memorize that list of exception types!\n",
    "\n",
    "\n",
    "Are we missing something ?\n",
    "\n",
    "yes \n",
    "\n",
    "In above code block we run first statement of try clause that is f= open('test.txt') (as there is no error in this statement) and in the next statement we get an error.\n",
    "\n",
    "this means we opened test.txt but we did not close it, as \"else:\" only run when there is no error in whole try block but unfortunately we have an error in try clause .\n",
    "\n",
    "It is a good habit to close the files which are opened during the execution of program.\n",
    "\n",
    "This is where <code>finally</code> comes in.\n",
    "\n",
    "\n"
   ]
  },
  {
   "cell_type": "code",
   "execution_count": null,
   "id": "b7d5f82b",
   "metadata": {},
   "outputs": [],
   "source": []
  },
  {
   "cell_type": "markdown",
   "id": "1cf37030",
   "metadata": {},
   "source": [
    "## finally\n",
    "The <code>finally:</code> block of code will always be run regardless if there was an exception in the <code>try</code> code block. The syntax is:\n",
    "\n",
    "    try:\n",
    "       Code block here\n",
    "       ...\n",
    "       Due to any exception, this code may be skipped!\n",
    "    finally:\n",
    "       This code block would always be executed.\n",
    "\n",
    "For example:\n"
   ]
  },
  {
   "cell_type": "code",
   "execution_count": 46,
   "id": "d5a9f9ea",
   "metadata": {},
   "outputs": [
    {
     "name": "stdout",
     "output_type": "stream",
     "text": [
      "division by zero\n",
      "Hey, how you doin?\n",
      "bye\n"
     ]
    }
   ],
   "source": [
    "try:\n",
    "    f = open('test.txt') #we have test.txt file\n",
    "    print(5/0)\n",
    "except Exception as e :\n",
    "    print(e)\n",
    "finally:\n",
    "    print(f.read())\n",
    "    f.close()\n",
    "print(\"bye\")"
   ]
  },
  {
   "cell_type": "markdown",
   "id": "81044509",
   "metadata": {},
   "source": [
    "We can use this in conjunction with <code>except</code>. Let's see a new example that will take into account a user providing the wrong input:\n"
   ]
  },
  {
   "cell_type": "code",
   "execution_count": 55,
   "id": "20ade4ae",
   "metadata": {},
   "outputs": [],
   "source": [
    "def putint():\n",
    "    try:\n",
    "        val = int(input(\"Please enter an integer: \"))\n",
    "    except:\n",
    "        print(\"Looks like you did not enter an integer!\")\n",
    "\n",
    "    finally:\n",
    "        print(\"bye !\")\n",
    "    print(val)"
   ]
  },
  {
   "cell_type": "code",
   "execution_count": 56,
   "id": "1b41eab0",
   "metadata": {},
   "outputs": [
    {
     "name": "stdout",
     "output_type": "stream",
     "text": [
      "Please enter an integer: 5\n",
      "bye !\n",
      "5\n"
     ]
    }
   ],
   "source": [
    "putint()"
   ]
  },
  {
   "cell_type": "code",
   "execution_count": 57,
   "id": "f0f6a638",
   "metadata": {},
   "outputs": [
    {
     "name": "stdout",
     "output_type": "stream",
     "text": [
      "Please enter an integer: r\n",
      "Looks like you did not enter an integer!\n",
      "bye !\n"
     ]
    },
    {
     "ename": "UnboundLocalError",
     "evalue": "local variable 'val' referenced before assignment",
     "output_type": "error",
     "traceback": [
      "\u001b[0;31m---------------------------------------------------------------------------\u001b[0m",
      "\u001b[0;31mUnboundLocalError\u001b[0m                         Traceback (most recent call last)",
      "\u001b[0;32m<ipython-input-57-6ab2e63ba449>\u001b[0m in \u001b[0;36m<module>\u001b[0;34m\u001b[0m\n\u001b[0;32m----> 1\u001b[0;31m \u001b[0mputint\u001b[0m\u001b[0;34m(\u001b[0m\u001b[0;34m)\u001b[0m\u001b[0;34m\u001b[0m\u001b[0;34m\u001b[0m\u001b[0m\n\u001b[0m",
      "\u001b[0;32m<ipython-input-55-aafe26a06f55>\u001b[0m in \u001b[0;36mputint\u001b[0;34m()\u001b[0m\n\u001b[1;32m      7\u001b[0m     \u001b[0;32mfinally\u001b[0m\u001b[0;34m:\u001b[0m\u001b[0;34m\u001b[0m\u001b[0;34m\u001b[0m\u001b[0m\n\u001b[1;32m      8\u001b[0m         \u001b[0mprint\u001b[0m\u001b[0;34m(\u001b[0m\u001b[0;34m\"bye !\"\u001b[0m\u001b[0;34m)\u001b[0m\u001b[0;34m\u001b[0m\u001b[0;34m\u001b[0m\u001b[0m\n\u001b[0;32m----> 9\u001b[0;31m     \u001b[0mprint\u001b[0m\u001b[0;34m(\u001b[0m\u001b[0mval\u001b[0m\u001b[0;34m)\u001b[0m\u001b[0;34m\u001b[0m\u001b[0;34m\u001b[0m\u001b[0m\n\u001b[0m",
      "\u001b[0;31mUnboundLocalError\u001b[0m: local variable 'val' referenced before assignment"
     ]
    }
   ],
   "source": [
    "putint()"
   ]
  },
  {
   "cell_type": "markdown",
   "id": "b6fab543",
   "metadata": {},
   "source": [
    "Notice how we got an error when trying to print val (because it was never properly assigned). Let's remedy this by asking the user and checking to make sure the input type is an integer:"
   ]
  },
  {
   "cell_type": "code",
   "execution_count": 58,
   "id": "0e878ed6",
   "metadata": {},
   "outputs": [],
   "source": [
    "def askint():\n",
    "    try:\n",
    "        val = int(input(\"Please enter an integer: \"))\n",
    "    except:\n",
    "        print(\"Please enter integer\")\n",
    "        val = int(input(\"Try again-Please enter an integer: \"))\n",
    "    finally:\n",
    "        print(\"Bye!\")\n",
    "    print(val)"
   ]
  },
  {
   "cell_type": "code",
   "execution_count": 59,
   "id": "e6cc1125",
   "metadata": {},
   "outputs": [
    {
     "name": "stdout",
     "output_type": "stream",
     "text": [
      "Please enter an integer: x\n",
      "Please enter integer\n",
      "Try again-Please enter an integer: y\n",
      "Bye!\n"
     ]
    },
    {
     "ename": "ValueError",
     "evalue": "invalid literal for int() with base 10: 'y'",
     "output_type": "error",
     "traceback": [
      "\u001b[0;31m---------------------------------------------------------------------------\u001b[0m",
      "\u001b[0;31mValueError\u001b[0m                                Traceback (most recent call last)",
      "\u001b[0;32m<ipython-input-58-78498b2364da>\u001b[0m in \u001b[0;36maskint\u001b[0;34m()\u001b[0m\n\u001b[1;32m      2\u001b[0m     \u001b[0;32mtry\u001b[0m\u001b[0;34m:\u001b[0m\u001b[0;34m\u001b[0m\u001b[0;34m\u001b[0m\u001b[0m\n\u001b[0;32m----> 3\u001b[0;31m         \u001b[0mval\u001b[0m \u001b[0;34m=\u001b[0m \u001b[0mint\u001b[0m\u001b[0;34m(\u001b[0m\u001b[0minput\u001b[0m\u001b[0;34m(\u001b[0m\u001b[0;34m\"Please enter an integer: \"\u001b[0m\u001b[0;34m)\u001b[0m\u001b[0;34m)\u001b[0m\u001b[0;34m\u001b[0m\u001b[0;34m\u001b[0m\u001b[0m\n\u001b[0m\u001b[1;32m      4\u001b[0m     \u001b[0;32mexcept\u001b[0m\u001b[0;34m:\u001b[0m\u001b[0;34m\u001b[0m\u001b[0;34m\u001b[0m\u001b[0m\n",
      "\u001b[0;31mValueError\u001b[0m: invalid literal for int() with base 10: 'x'",
      "\nDuring handling of the above exception, another exception occurred:\n",
      "\u001b[0;31mValueError\u001b[0m                                Traceback (most recent call last)",
      "\u001b[0;32m<ipython-input-59-cc291aa76c10>\u001b[0m in \u001b[0;36m<module>\u001b[0;34m\u001b[0m\n\u001b[0;32m----> 1\u001b[0;31m \u001b[0maskint\u001b[0m\u001b[0;34m(\u001b[0m\u001b[0;34m)\u001b[0m\u001b[0;34m\u001b[0m\u001b[0;34m\u001b[0m\u001b[0m\n\u001b[0m",
      "\u001b[0;32m<ipython-input-58-78498b2364da>\u001b[0m in \u001b[0;36maskint\u001b[0;34m()\u001b[0m\n\u001b[1;32m      4\u001b[0m     \u001b[0;32mexcept\u001b[0m\u001b[0;34m:\u001b[0m\u001b[0;34m\u001b[0m\u001b[0;34m\u001b[0m\u001b[0m\n\u001b[1;32m      5\u001b[0m         \u001b[0mprint\u001b[0m\u001b[0;34m(\u001b[0m\u001b[0;34m\"Please enter integer\"\u001b[0m\u001b[0;34m)\u001b[0m\u001b[0;34m\u001b[0m\u001b[0;34m\u001b[0m\u001b[0m\n\u001b[0;32m----> 6\u001b[0;31m         \u001b[0mval\u001b[0m \u001b[0;34m=\u001b[0m \u001b[0mint\u001b[0m\u001b[0;34m(\u001b[0m\u001b[0minput\u001b[0m\u001b[0;34m(\u001b[0m\u001b[0;34m\"Try again-Please enter an integer: \"\u001b[0m\u001b[0;34m)\u001b[0m\u001b[0;34m)\u001b[0m\u001b[0;34m\u001b[0m\u001b[0;34m\u001b[0m\u001b[0m\n\u001b[0m\u001b[1;32m      7\u001b[0m     \u001b[0;32mfinally\u001b[0m\u001b[0;34m:\u001b[0m\u001b[0;34m\u001b[0m\u001b[0;34m\u001b[0m\u001b[0m\n\u001b[1;32m      8\u001b[0m         \u001b[0mprint\u001b[0m\u001b[0;34m(\u001b[0m\u001b[0;34m\"Bye!\"\u001b[0m\u001b[0;34m)\u001b[0m\u001b[0;34m\u001b[0m\u001b[0;34m\u001b[0m\u001b[0m\n",
      "\u001b[0;31mValueError\u001b[0m: invalid literal for int() with base 10: 'y'"
     ]
    }
   ],
   "source": [
    "askint()\n"
   ]
  },
  {
   "cell_type": "markdown",
   "id": "77b3c10b",
   "metadata": {},
   "source": [
    "Hmmm...that only did one check. How can we continually keep checking? We can use a while loop!"
   ]
  },
  {
   "cell_type": "code",
   "execution_count": 69,
   "id": "57852269",
   "metadata": {},
   "outputs": [],
   "source": [
    "def askint():\n",
    "    while True:\n",
    "        try:\n",
    "            val = int(input(\"Please enter an integer: \"))\n",
    "        except:\n",
    "            print(\"It's not an integer, I am not going leaving you till you enter an integer\")\n",
    "            continue\n",
    "        else:\n",
    "            print(\"Yep that's an integer!\")\n",
    "            break\n",
    "        finally:\n",
    "            print(\"Bye !\")\n",
    "        print(val)\n",
    "        "
   ]
  },
  {
   "cell_type": "code",
   "execution_count": 70,
   "id": "9495110b",
   "metadata": {},
   "outputs": [
    {
     "name": "stdout",
     "output_type": "stream",
     "text": [
      "Please enter an integer: a\n",
      "It's not an integer, I am not going leaving you till you enter an integer\n",
      "Bye !\n",
      "Please enter an integer: @\n",
      "It's not an integer, I am not going leaving you till you enter an integer\n",
      "Bye !\n",
      "Please enter an integer: 7\n",
      "Yep that's an integer!\n",
      "Bye !\n"
     ]
    }
   ],
   "source": [
    "askint()"
   ]
  },
  {
   "cell_type": "markdown",
   "id": "21d7fc7b",
   "metadata": {},
   "source": [
    "So why did our function print \"Finally, I executed!\" after each trial, yet it never printed `val` itself? This is because with a try/except/finally clause, any <code>continue</code> or <code>break</code> statements are reserved until *after* the try clause is completed. This means that even though a successful input of **3** brought us to the <code>else:</code> block, and a <code>break</code> statement was thrown, the try clause continued through to <code>finally:</code> before breaking out of the while loop. And since <code>print(val)</code> was outside the try clause, the <code>break</code> statement prevented it from running.\n",
    "\n",
    "Let's make one final adjustment:"
   ]
  },
  {
   "cell_type": "code",
   "execution_count": 71,
   "id": "7a7b47f8",
   "metadata": {},
   "outputs": [],
   "source": [
    "def askint():\n",
    "    while True:\n",
    "        try:\n",
    "            val = int(input(\"Please enter an integer: \"))\n",
    "        except:\n",
    "            print(\"It's not an integer, I am not going leaving you till you enter an integer\")\n",
    "            continue\n",
    "        else:\n",
    "            print(\"Yep that's an integer!\")\n",
    "            print(val)\n",
    "            break\n",
    "        finally:\n",
    "            print(\"Bye!\")"
   ]
  },
  {
   "cell_type": "code",
   "execution_count": 72,
   "id": "84127a08",
   "metadata": {},
   "outputs": [
    {
     "name": "stdout",
     "output_type": "stream",
     "text": [
      "Please enter an integer: G\n",
      "It's not an integer, I am not going leaving you till you enter an integer\n",
      "Bye!\n",
      "Please enter an integer: $\n",
      "It's not an integer, I am not going leaving you till you enter an integer\n",
      "Bye!\n",
      "Please enter an integer: 1\n",
      "Yep that's an integer!\n",
      "1\n",
      "Bye!\n"
     ]
    }
   ],
   "source": [
    "askint()\n"
   ]
  },
  {
   "cell_type": "markdown",
   "id": "97f40b9d",
   "metadata": {},
   "source": [
    "**Great! Now you know how to handle errors and exceptions in Python with the try, except, else, and finally notation!**"
   ]
  }
 ],
 "metadata": {
  "kernelspec": {
   "display_name": "Python 3",
   "language": "python",
   "name": "python3"
  },
  "language_info": {
   "codemirror_mode": {
    "name": "ipython",
    "version": 3
   },
   "file_extension": ".py",
   "mimetype": "text/x-python",
   "name": "python",
   "nbconvert_exporter": "python",
   "pygments_lexer": "ipython3",
   "version": "3.8.8"
  }
 },
 "nbformat": 4,
 "nbformat_minor": 5
}
