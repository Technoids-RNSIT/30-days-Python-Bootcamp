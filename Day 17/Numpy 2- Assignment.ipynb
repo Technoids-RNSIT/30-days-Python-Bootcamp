{
 "cells": [
  {
   "cell_type": "markdown",
   "metadata": {},
   "source": [
    "#### Question 1\n",
    "Build an array of all combinations of two NumPy arrays.<br>\n",
    "Eg: <br>a1 = [1,2] <br>\n",
    "    a2 = [4,6] <br>\n",
    "    Expected Output:<br>\n",
    "<nbsp> [[1,4],<br>\n",
    "     [1,6],<br>\n",
    "     [2,4],<br>\n",
    "     [2,6]]<br>\n",
    "Hint: Try using the meshgrid() function."
   ]
  },
  {
   "cell_type": "code",
   "execution_count": null,
   "metadata": {},
   "outputs": [],
   "source": []
  },
  {
   "cell_type": "markdown",
   "metadata": {},
   "source": [
    "#### Question 2\n",
    "Given a Numpy array find the number of occurrences of a sequence in it.<br>\n",
    "Eg:<br>\n",
    "Arr = <br>[[2,8,9,4],<br>\n",
    "       [9,4,9,4],<br>\n",
    "       [4,5,9,7],<br>\n",
    "       [2,9,4,3]]<br>\n",
    "<br>and the seq = [9,4] then output is 4.\n",
    "<br>Hint: Try using something similar to what we do in list."
   ]
  },
  {
   "cell_type": "code",
   "execution_count": null,
   "metadata": {},
   "outputs": [],
   "source": []
  },
  {
   "cell_type": "markdown",
   "metadata": {},
   "source": [
    "#### Question 3\n",
    "Given a 2d numpy array, the task is to flatten a 2d numpy array into a 1d array.\n",
    "<br>Iinitial array <br>[[1 2 3]<br>\n",
    " [2 4 5]<br>\n",
    " [1 2 3]]<br>\n",
    "New resulting array:  [1 2 3 2 4 5 1 2 3]<br>\n",
    "Hint: Try using function other than numpy.reshape()"
   ]
  },
  {
   "cell_type": "code",
   "execution_count": null,
   "metadata": {},
   "outputs": [],
   "source": []
  },
  {
   "cell_type": "markdown",
   "metadata": {},
   "source": [
    "#### Question 4\n",
    "Given a matrix replace NaN values with average of columns.\n",
    "<br>Eg:<br>\n",
    "Initial array <br>[[ 1.3,  2.5,  3.6,  nan]\n",
    " <br>[ 2.6,  3.3,  nan,  5.5]\n",
    " <br>[ 2.1,  3.2,  5.4,  6.5]]\n",
    "<br><br>Columns mean: [ 2.,   3.,   4.5,  6. ]\n",
    "<br><br>Output:<br> [[ 1.3,  2.5,  3.6,  6. ]\n",
    " <br>[ 2.6,  3.3,  4.5,  5.5]\n",
    " <br>[ 2.1,  3.2,  5.4,  6.5]]\n"
   ]
  },
  {
   "cell_type": "code",
   "execution_count": null,
   "metadata": {},
   "outputs": [],
   "source": []
  },
  {
   "cell_type": "markdown",
   "metadata": {},
   "source": [
    "#### Question 5\n",
    "Find the roots of the polynomials using NumPy.\n",
    "<br>Eg:<br>Eqn: x2 +2x + 1\n",
    "<br>Output: [-1., -1.]<br>\n",
    "Hint: Consider passing the coefficient values and then using the neccessary functions."
   ]
  },
  {
   "cell_type": "code",
   "execution_count": null,
   "metadata": {},
   "outputs": [],
   "source": []
  },
  {
   "cell_type": "markdown",
   "metadata": {},
   "source": [
    "#### Question 6\n",
    "Given an array with string elements swap the cases of the string elements.\n",
    "<br>Eg:<br>\n",
    "Input array :  ['P4Q R', '4q Rp', 'Q Rp4', 'rp4q']<br>\n",
    "Output swapcasecased array : ['p4q r', '4Q rP', 'q rP4', 'RP4Q']"
   ]
  },
  {
   "cell_type": "code",
   "execution_count": null,
   "metadata": {},
   "outputs": [],
   "source": []
  }
 ],
 "metadata": {
  "kernelspec": {
   "display_name": "Python 3",
   "language": "python",
   "name": "python3"
  },
  "language_info": {
   "codemirror_mode": {
    "name": "ipython",
    "version": 3
   },
   "file_extension": ".py",
   "mimetype": "text/x-python",
   "name": "python",
   "nbconvert_exporter": "python",
   "pygments_lexer": "ipython3",
   "version": "3.8.2"
  }
 },
 "nbformat": 4,
 "nbformat_minor": 4
}
