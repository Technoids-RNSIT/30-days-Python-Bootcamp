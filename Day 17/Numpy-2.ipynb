{
 "cells": [
  {
   "cell_type": "code",
   "execution_count": 1,
   "metadata": {},
   "outputs": [],
   "source": [
    "import numpy as np"
   ]
  },
  {
   "cell_type": "markdown",
   "metadata": {},
   "source": [
    "#### Question 1\n",
    "Given a space separated list of numbers.\n",
    "We have to print a reversed NumPy array with the element type float."
   ]
  },
  {
   "cell_type": "code",
   "execution_count": 9,
   "metadata": {},
   "outputs": [
    {
     "data": {
      "text/plain": [
       "array([5, 4, 3, 2, 1])"
      ]
     },
     "execution_count": 9,
     "metadata": {},
     "output_type": "execute_result"
    }
   ],
   "source": [
    "lst = [1,2,3,4,5]\n",
    "arr = np.array(lst,float)\n",
    "arr = np.flipud(arr)\n",
    "arr = arr.astype(int)\n",
    "arr"
   ]
  },
  {
   "cell_type": "markdown",
   "metadata": {},
   "source": [
    "#### Question 2\n",
    "Given a space separated list of nine integers. We have to convert this list into a 3X3 NumPy array."
   ]
  },
  {
   "cell_type": "code",
   "execution_count": 13,
   "metadata": {},
   "outputs": [
    {
     "name": "stdout",
     "output_type": "stream",
     "text": [
      "[[1 2 3]\n",
      " [4 5 6]\n",
      " [7 8 9]]\n"
     ]
    }
   ],
   "source": [
    "#output of the shape method of theype (m,n) = (rows, colomns)\n",
    "lst1 = [ 1,2,3,4,5,6,7,8,9]\n",
    "arr1 = np.array(lst1)\n",
    "print(np.reshape(arr1,(3,3)))"
   ]
  },
  {
   "cell_type": "markdown",
   "metadata": {},
   "source": [
    "#### Question 3\n",
    "Remove rows in Numpy array that contains non-numeric values."
   ]
  },
  {
   "cell_type": "code",
   "execution_count": 18,
   "metadata": {},
   "outputs": [
    {
     "name": "stdout",
     "output_type": "stream",
     "text": [
      "(5, 4)\n",
      "[[10.5  22.5   3.8   5.  ]\n",
      " [23.45 50.   78.7   3.5 ]\n",
      " [18.8  50.6   8.8  58.6 ]]\n"
     ]
    }
   ],
   "source": [
    "arr = np.array([[10.5, 22.5, 3.8, 5],\n",
    "                  [23.45, 50, 78.7, 3.5],\n",
    "                  [41, np.nan, np.nan, 0],\n",
    "                  [20, 50.20, np.nan, 2.5],\n",
    "                  [18.8, 50.60, 8.8, 58.6]])\n",
    "print(arr.shape)\n",
    "print(arr[~np.isnan(arr).any(axis=1)])"
   ]
  },
  {
   "cell_type": "markdown",
   "metadata": {},
   "source": [
    "#### Question 4\n",
    "Find the most frequent value in a NumPy array."
   ]
  },
  {
   "cell_type": "code",
   "execution_count": 27,
   "metadata": {},
   "outputs": [
    {
     "name": "stdout",
     "output_type": "stream",
     "text": [
      "2\n"
     ]
    }
   ],
   "source": [
    "lst4 = [1,2,324,24,4,2,1,2,23,43413,12313,23,12323,34]\n",
    "dc = {}\n",
    "for i in lst4:\n",
    "    if i in dc:\n",
    "        dc[i] +=1\n",
    "    else:\n",
    "        dc[i] = 1\n",
    "\n",
    "print(max(dc, key = dc.get))"
   ]
  },
  {
   "cell_type": "code",
   "execution_count": 28,
   "metadata": {},
   "outputs": [
    {
     "name": "stdout",
     "output_type": "stream",
     "text": [
      "2\n"
     ]
    }
   ],
   "source": [
    "print(np.bincount(np.array(lst4)).argmax())"
   ]
  },
  {
   "cell_type": "markdown",
   "metadata": {},
   "source": [
    "#### Question 5\n",
    "Find the eigen values of a matrix."
   ]
  },
  {
   "cell_type": "markdown",
   "metadata": {},
   "source": [
    "A =[[10.5  22.5   3.8]\n",
    "    [23.45 50.   78.7]\n",
    "    [18.8  50.6   8.8]]\n",
    "det(A -lambdaxI) = 0"
   ]
  },
  {
   "cell_type": "code",
   "execution_count": 29,
   "metadata": {},
   "outputs": [],
   "source": [
    "from numpy import linalg as la"
   ]
  },
  {
   "cell_type": "code",
   "execution_count": 30,
   "metadata": {},
   "outputs": [
    {
     "name": "stdout",
     "output_type": "stream",
     "text": [
      "[ 3.62093727e+01 -2.20937271e+00 -3.18863232e-15 -1.34840081e-16]\n"
     ]
    }
   ],
   "source": [
    "eg = la.eigvals([[1,2,3,4],[5,6,7,8],[9,10,11,12],[13,14,15,16]])\n",
    "print(eg)"
   ]
  },
  {
   "cell_type": "code",
   "execution_count": null,
   "metadata": {},
   "outputs": [],
   "source": []
  }
 ],
 "metadata": {
  "kernelspec": {
   "display_name": "Python 3",
   "language": "python",
   "name": "python3"
  },
  "language_info": {
   "codemirror_mode": {
    "name": "ipython",
    "version": 3
   },
   "file_extension": ".py",
   "mimetype": "text/x-python",
   "name": "python",
   "nbconvert_exporter": "python",
   "pygments_lexer": "ipython3",
   "version": "3.8.2"
  }
 },
 "nbformat": 4,
 "nbformat_minor": 4
}
