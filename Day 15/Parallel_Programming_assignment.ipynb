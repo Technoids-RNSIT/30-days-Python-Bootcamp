{
  "nbformat": 4,
  "nbformat_minor": 5,
  "metadata": {
    "kernelspec": {
      "display_name": "Python 3",
      "language": "python",
      "name": "python3"
    },
    "language_info": {
      "codemirror_mode": {
        "name": "ipython",
        "version": 3
      },
      "file_extension": ".py",
      "mimetype": "text/x-python",
      "name": "python",
      "nbconvert_exporter": "python",
      "pygments_lexer": "ipython3",
      "version": "3.8.8"
    },
    "colab": {
      "name": "Parallel Programming assignment.ipynb",
      "provenance": []
    }
  },
  "cells": [
    {
      "cell_type": "markdown",
      "metadata": {
        "id": "2362c342"
      },
      "source": [
        "### This assignment tests your basic understanding on implementing multiprocessing and multithreading in python ###"
      ],
      "id": "2362c342"
    },
    {
      "cell_type": "markdown",
      "metadata": {
        "id": "6e98cc37"
      },
      "source": [
        "#### 1. Create two functions that will calculate the square and cube of a given number and implement multiprocessing in them "
      ],
      "id": "6e98cc37"
    },
    {
      "cell_type": "code",
      "metadata": {
        "id": "adc0da10"
      },
      "source": [
        "#Create the function square that will print the square of the given number \n"
      ],
      "id": "adc0da10",
      "execution_count": null,
      "outputs": []
    },
    {
      "cell_type": "code",
      "metadata": {
        "id": "f38b1e4e"
      },
      "source": [
        "#Create the function cube that will print the cube of the given number \n"
      ],
      "id": "f38b1e4e",
      "execution_count": null,
      "outputs": []
    },
    {
      "cell_type": "code",
      "metadata": {
        "id": "f1d309e1"
      },
      "source": [
        "#Run the functions to display process id since you wont be able to display it after creating process due to python glitch"
      ],
      "id": "f1d309e1",
      "execution_count": null,
      "outputs": []
    },
    {
      "cell_type": "code",
      "metadata": {
        "id": "03f0521f"
      },
      "source": [
        "#Now create a process for the functions each and display the process id of the functions "
      ],
      "id": "03f0521f",
      "execution_count": null,
      "outputs": []
    },
    {
      "cell_type": "code",
      "metadata": {
        "id": "dadd1fcb"
      },
      "source": [
        "#Create the process for 2 functions:\n"
      ],
      "id": "dadd1fcb",
      "execution_count": null,
      "outputs": []
    },
    {
      "cell_type": "code",
      "metadata": {
        "id": "94bf482e"
      },
      "source": [
        "#Now start and terminate the process\n"
      ],
      "id": "94bf482e",
      "execution_count": null,
      "outputs": []
    },
    {
      "cell_type": "markdown",
      "metadata": {
        "id": "339b7bc8"
      },
      "source": [
        "#### 2. implement multithreading in the above 2 functions that you created"
      ],
      "id": "339b7bc8"
    },
    {
      "cell_type": "code",
      "metadata": {
        "id": "e2c64f81"
      },
      "source": [
        "#here you have to create the new function as we need thread name as well as process id here  "
      ],
      "id": "e2c64f81",
      "execution_count": null,
      "outputs": []
    },
    {
      "cell_type": "code",
      "metadata": {
        "id": "3976d038"
      },
      "source": [
        "# Create a thread each for each of the functions and display the result and thread name and process id using the threads"
      ],
      "id": "3976d038",
      "execution_count": null,
      "outputs": []
    },
    {
      "cell_type": "code",
      "metadata": {
        "id": "749daebe"
      },
      "source": [
        "#Now run both the threads to display result and thread name and process id and verify whether they are same for both threads "
      ],
      "id": "749daebe",
      "execution_count": null,
      "outputs": []
    },
    {
      "cell_type": "markdown",
      "metadata": {
        "id": "813419f9"
      },
      "source": [
        "### Thank You ###"
      ],
      "id": "813419f9"
    }
  ]
}