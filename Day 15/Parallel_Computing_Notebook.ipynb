{
  "nbformat": 4,
  "nbformat_minor": 5,
  "metadata": {
    "kernelspec": {
      "display_name": "Python 3",
      "language": "python",
      "name": "python3"
    },
    "language_info": {
      "codemirror_mode": {
        "name": "ipython",
        "version": 3
      },
      "file_extension": ".py",
      "mimetype": "text/x-python",
      "name": "python",
      "nbconvert_exporter": "python",
      "pygments_lexer": "ipython3",
      "version": "3.8.8"
    },
    "colab": {
      "name": "Parallel Computing - Notebook.ipynb",
      "provenance": []
    }
  },
  "cells": [
    {
      "cell_type": "markdown",
      "metadata": {
        "id": "1fc930a0"
      },
      "source": [
        "### In this notebook we will cover the basic implementation in python ###"
      ],
      "id": "1fc930a0"
    },
    {
      "cell_type": "markdown",
      "metadata": {
        "id": "5128b598"
      },
      "source": [
        "#### 1. First we will learn how to implement multiprocessing ####"
      ],
      "id": "5128b598"
    },
    {
      "cell_type": "code",
      "metadata": {
        "id": "fe627f15"
      },
      "source": [
        "import os \n",
        "import multiprocessing"
      ],
      "id": "fe627f15",
      "execution_count": null,
      "outputs": []
    },
    {
      "cell_type": "code",
      "metadata": {
        "id": "fe5b5ad7"
      },
      "source": [
        "#Lets consider 2 functions\n",
        "def double(num):\n",
        "    print(os.getpid())  \n",
        "    print(\"Double:{}\".format(num*2))\n",
        "\n",
        "def triple(num):\n",
        "     print(os.getpid())\n",
        "     print(\"Triple:{}\".format(num*3))"
      ],
      "id": "fe5b5ad7",
      "execution_count": null,
      "outputs": []
    },
    {
      "cell_type": "code",
      "metadata": {
        "id": "0bb542e0",
        "outputId": "c627e3c4-8012-4885-e8e6-786a50440ce3"
      },
      "source": [
        "double(58)"
      ],
      "id": "0bb542e0",
      "execution_count": null,
      "outputs": [
        {
          "name": "stdout",
          "output_type": "stream",
          "text": [
            "9272\n",
            "Double:116\n"
          ]
        }
      ]
    },
    {
      "cell_type": "code",
      "metadata": {
        "id": "a550db59",
        "outputId": "47fa756e-79ad-4fb6-f836-d7eb3fbdc944"
      },
      "source": [
        "triple(58)"
      ],
      "id": "a550db59",
      "execution_count": null,
      "outputs": [
        {
          "name": "stdout",
          "output_type": "stream",
          "text": [
            "9272\n",
            "Triple:174\n"
          ]
        }
      ]
    },
    {
      "cell_type": "code",
      "metadata": {
        "id": "bce06c27",
        "outputId": "9c8be432-ead0-4a85-ccc0-2e51f562889e"
      },
      "source": [
        "multiprocessing.cpu_count()"
      ],
      "id": "bce06c27",
      "execution_count": null,
      "outputs": [
        {
          "data": {
            "text/plain": [
              "8"
            ]
          },
          "execution_count": 23,
          "metadata": {},
          "output_type": "execute_result"
        }
      ]
    },
    {
      "cell_type": "code",
      "metadata": {
        "id": "79d80eda"
      },
      "source": [
        "#to create a process:\n",
        "# Syntax: name_process = multiprocessing.Process(target=func_name, args=(value1,value2,)) "
      ],
      "id": "79d80eda",
      "execution_count": null,
      "outputs": []
    },
    {
      "cell_type": "code",
      "metadata": {
        "id": "8cbe1533"
      },
      "source": [
        "p1 = multiprocessing.Process(target = double, args=(58,))\n",
        "p2 = multiprocessing.Process(target = triple, args=(58,))"
      ],
      "id": "8cbe1533",
      "execution_count": null,
      "outputs": []
    },
    {
      "cell_type": "code",
      "metadata": {
        "id": "6a37655c",
        "outputId": "f9b20c7d-d9fc-4ff8-a5d1-182aecc9b311"
      },
      "source": [
        "# to start and terminate\n",
        "p1.start()\n",
        "p2.start()\n",
        "p1.join()\n",
        "p2.join()\n",
        "print(\"done\")"
      ],
      "id": "6a37655c",
      "execution_count": null,
      "outputs": [
        {
          "name": "stdout",
          "output_type": "stream",
          "text": [
            "done\n"
          ]
        }
      ]
    },
    {
      "cell_type": "code",
      "metadata": {
        "id": "4330ec76",
        "outputId": "b4fc5dc6-ff57-49c0-8bf5-517523484dd6"
      },
      "source": [
        "p1.is_alive()"
      ],
      "id": "4330ec76",
      "execution_count": null,
      "outputs": [
        {
          "data": {
            "text/plain": [
              "False"
            ]
          },
          "execution_count": 18,
          "metadata": {},
          "output_type": "execute_result"
        }
      ]
    },
    {
      "cell_type": "code",
      "metadata": {
        "id": "a9fc52f0",
        "outputId": "e1d0cc6e-c2a8-4b87-a5f3-e01ef6272510"
      },
      "source": [
        "p2.is_alive()"
      ],
      "id": "a9fc52f0",
      "execution_count": null,
      "outputs": [
        {
          "data": {
            "text/plain": [
              "False"
            ]
          },
          "execution_count": 19,
          "metadata": {},
          "output_type": "execute_result"
        }
      ]
    },
    {
      "cell_type": "markdown",
      "metadata": {
        "id": "b6656bba"
      },
      "source": [
        "#### 2. Now we will learn how to implement multi-threading in python ####"
      ],
      "id": "b6656bba"
    },
    {
      "cell_type": "code",
      "metadata": {
        "id": "26d83550"
      },
      "source": [
        "import threading"
      ],
      "id": "26d83550",
      "execution_count": null,
      "outputs": []
    },
    {
      "cell_type": "code",
      "metadata": {
        "id": "11c99223"
      },
      "source": [
        "#Lets consider 2 functions\n",
        "def double(num):\n",
        "    print(threading.current_thread().name, os.getpid())  \n",
        "    print(\"Double: {}\".format(num*2))\n",
        "\n",
        "def triple(num):\n",
        "    print(threading.current_thread().name, os.getpid())\n",
        "    print(\"Triple: {}\".format(num*3))"
      ],
      "id": "11c99223",
      "execution_count": null,
      "outputs": []
    },
    {
      "cell_type": "code",
      "metadata": {
        "id": "378cb739",
        "outputId": "89699d3a-8371-43e4-9713-90504b27468e"
      },
      "source": [
        "double(60)"
      ],
      "id": "378cb739",
      "execution_count": null,
      "outputs": [
        {
          "name": "stdout",
          "output_type": "stream",
          "text": [
            "MainThread 9272\n",
            "Double: 120\n"
          ]
        }
      ]
    },
    {
      "cell_type": "code",
      "metadata": {
        "id": "e961d696",
        "outputId": "f3cb5458-adc0-4590-ca42-fefa144fe73b"
      },
      "source": [
        "triple(60)"
      ],
      "id": "e961d696",
      "execution_count": null,
      "outputs": [
        {
          "name": "stdout",
          "output_type": "stream",
          "text": [
            "MainThread 9272\n",
            "Triple: 180\n"
          ]
        }
      ]
    },
    {
      "cell_type": "code",
      "metadata": {
        "id": "7e8e8c37"
      },
      "source": [
        "#to create a thread:\n",
        "#Syntax: thread_name = threading.thread(target = func_name, args=(value1,value2,))"
      ],
      "id": "7e8e8c37",
      "execution_count": null,
      "outputs": []
    },
    {
      "cell_type": "code",
      "metadata": {
        "id": "4ab79891"
      },
      "source": [
        "def mul(num1,num2):\n",
        "    print(num1*num2)"
      ],
      "id": "4ab79891",
      "execution_count": null,
      "outputs": []
    },
    {
      "cell_type": "code",
      "metadata": {
        "id": "6c60e652",
        "outputId": "42a3d649-7d4d-4101-a123-2fc34b28ab66"
      },
      "source": [
        "mul(30,40)"
      ],
      "id": "6c60e652",
      "execution_count": null,
      "outputs": [
        {
          "name": "stdout",
          "output_type": "stream",
          "text": [
            "1200\n"
          ]
        }
      ]
    },
    {
      "cell_type": "code",
      "metadata": {
        "id": "5de6840b"
      },
      "source": [
        "t3 = threading.Thread(target= mul,args=(30,40,))"
      ],
      "id": "5de6840b",
      "execution_count": null,
      "outputs": []
    },
    {
      "cell_type": "code",
      "metadata": {
        "id": "0a60a634",
        "outputId": "6714b7a0-3411-4ac3-95b1-d28fdbc79f97"
      },
      "source": [
        "t3.start()\n",
        "t3.join()"
      ],
      "id": "0a60a634",
      "execution_count": null,
      "outputs": [
        {
          "name": "stdout",
          "output_type": "stream",
          "text": [
            "1200\n"
          ]
        }
      ]
    },
    {
      "cell_type": "code",
      "metadata": {
        "id": "975c8010"
      },
      "source": [
        "t1 = threading.Thread(target=double, args=(60, ))\n",
        "t2 = threading.Thread(target=triple, args=(60, ))"
      ],
      "id": "975c8010",
      "execution_count": null,
      "outputs": []
    },
    {
      "cell_type": "code",
      "metadata": {
        "id": "163ec566",
        "outputId": "a0b5d177-8f81-4ec3-e5fc-829447e36d6f"
      },
      "source": [
        "# To Start and terminate \n",
        "t1.start()\n",
        "t2.start()\n",
        "\n",
        "t1.join()\n",
        "t2.join()\n",
        "print(\"done\")"
      ],
      "id": "163ec566",
      "execution_count": null,
      "outputs": [
        {
          "name": "stdout",
          "output_type": "stream",
          "text": [
            "Thread-14 9272\n",
            "Double: 120\n",
            "Thread-15 9272\n",
            "Triple: 180\n",
            "done\n"
          ]
        }
      ]
    }
  ]
}