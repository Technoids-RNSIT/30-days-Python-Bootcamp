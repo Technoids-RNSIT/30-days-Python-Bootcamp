{
  "nbformat": 4,
  "nbformat_minor": 0,
  "metadata": {
    "colab": {
      "name": "Generators.ipynb",
      "provenance": []
    },
    "kernelspec": {
      "name": "python3",
      "display_name": "Python 3"
    },
    "language_info": {
      "name": "python"
    }
  },
  "cells": [
    {
      "cell_type": "markdown",
      "metadata": {
        "id": "hVOWuc1Mgm_E"
      },
      "source": [
        "#Iterators\n"
      ]
    },
    {
      "cell_type": "markdown",
      "metadata": {
        "id": "FNiI2ae4gry7"
      },
      "source": [
        "**Iterable**- An iterable is any Python object capable of returning its members one at a time"
      ]
    },
    {
      "cell_type": "code",
      "metadata": {
        "id": "FO0g48wPgmWS"
      },
      "source": [
        "lst1 = [\"Andrew Ng\", \"Jason Mayes\", \"Anirudh Kaul\"]\n",
        "str1 = \"Technoids\"\n",
        "tup1 = (1,2,3,4,5)\n",
        "dict1 = {0:\"Bukayo Saka\", 1:\"Kieren Tierney\"}"
      ],
      "execution_count": 200,
      "outputs": []
    },
    {
      "cell_type": "code",
      "metadata": {
        "colab": {
          "base_uri": "https://localhost:8080/"
        },
        "id": "99pXSAa5kAAR",
        "outputId": "57d0a48a-75b4-409a-a476-fd2a49758a3a"
      },
      "source": [
        "for i in lst1:\n",
        "  print(i)"
      ],
      "execution_count": 201,
      "outputs": [
        {
          "output_type": "stream",
          "name": "stdout",
          "text": [
            "Andrew Ng\n",
            "Jason Mayes\n",
            "Anirudh Kaul\n"
          ]
        }
      ]
    },
    {
      "cell_type": "code",
      "metadata": {
        "colab": {
          "base_uri": "https://localhost:8080/"
        },
        "id": "4X2K51w9kHWf",
        "outputId": "ad618312-a469-4190-a654-a47a915ffda1"
      },
      "source": [
        "for i in str1:\n",
        "  print(i)"
      ],
      "execution_count": 202,
      "outputs": [
        {
          "output_type": "stream",
          "name": "stdout",
          "text": [
            "T\n",
            "e\n",
            "c\n",
            "h\n",
            "n\n",
            "o\n",
            "i\n",
            "d\n",
            "s\n"
          ]
        }
      ]
    },
    {
      "cell_type": "code",
      "metadata": {
        "colab": {
          "base_uri": "https://localhost:8080/"
        },
        "id": "tgYkqElSkHUI",
        "outputId": "ebe237c7-7fa8-4d62-d364-0c78ec72e3a2"
      },
      "source": [
        "for i in tup1:\n",
        "  print(i)"
      ],
      "execution_count": 203,
      "outputs": [
        {
          "output_type": "stream",
          "name": "stdout",
          "text": [
            "1\n",
            "2\n",
            "3\n",
            "4\n",
            "5\n"
          ]
        }
      ]
    },
    {
      "cell_type": "code",
      "metadata": {
        "colab": {
          "base_uri": "https://localhost:8080/"
        },
        "id": "Y2yaI6pNkHR-",
        "outputId": "a46e388f-2dd3-4825-80c7-312bddcdf142"
      },
      "source": [
        "for i in dict1:\n",
        "  print(i,\"----\",dict1[i])"
      ],
      "execution_count": 204,
      "outputs": [
        {
          "output_type": "stream",
          "name": "stdout",
          "text": [
            "0 ---- Bukayo Saka\n",
            "1 ---- Kieren Tierney\n"
          ]
        }
      ]
    },
    {
      "cell_type": "markdown",
      "metadata": {
        "id": "OXcu01NSmIeC"
      },
      "source": [
        "**Iterators**-It is an object that is used to iterate over iterable objects like lists, tuples and dicts.\n",
        "\n",
        "\n",
        "1.   The iterator object is initialized using the iter() method.\n",
        "2.   It uses the next() method for iteration.\n",
        "\n"
      ]
    },
    {
      "cell_type": "code",
      "metadata": {
        "colab": {
          "base_uri": "https://localhost:8080/"
        },
        "id": "bEuyaj1WlFc_",
        "outputId": "a9a07614-2cc4-4e66-8d3f-82bc3880d7af"
      },
      "source": [
        "itr1 = iter(lst1)\n",
        "type(itr1)"
      ],
      "execution_count": 208,
      "outputs": [
        {
          "output_type": "execute_result",
          "data": {
            "text/plain": [
              "list_iterator"
            ]
          },
          "metadata": {},
          "execution_count": 208
        }
      ]
    },
    {
      "cell_type": "markdown",
      "metadata": {
        "id": "7p8vLUoZnXVe"
      },
      "source": [
        "We can iterate over iterators"
      ]
    },
    {
      "cell_type": "code",
      "metadata": {
        "id": "-oAUeMbQlFaZ"
      },
      "source": [
        "# i = 0\n",
        "# for i in itr1:\n",
        "#    print(i)"
      ],
      "execution_count": 209,
      "outputs": []
    },
    {
      "cell_type": "code",
      "metadata": {
        "colab": {
          "base_uri": "https://localhost:8080/",
          "height": 171
        },
        "id": "Ic1UJ_FKlFXB",
        "outputId": "25f65ed5-6462-41e6-ab3b-094a28d5055e"
      },
      "source": [
        "print(next(itr1))"
      ],
      "execution_count": 213,
      "outputs": [
        {
          "output_type": "error",
          "ename": "StopIteration",
          "evalue": "ignored",
          "traceback": [
            "\u001b[0;31m---------------------------------------------------------------------------\u001b[0m",
            "\u001b[0;31mStopIteration\u001b[0m                             Traceback (most recent call last)",
            "\u001b[0;32m<ipython-input-213-87284b14f70d>\u001b[0m in \u001b[0;36m<module>\u001b[0;34m()\u001b[0m\n\u001b[0;32m----> 1\u001b[0;31m \u001b[0mprint\u001b[0m\u001b[0;34m(\u001b[0m\u001b[0mnext\u001b[0m\u001b[0;34m(\u001b[0m\u001b[0mitr1\u001b[0m\u001b[0;34m)\u001b[0m\u001b[0;34m)\u001b[0m\u001b[0;34m\u001b[0m\u001b[0;34m\u001b[0m\u001b[0m\n\u001b[0m",
            "\u001b[0;31mStopIteration\u001b[0m: "
          ]
        }
      ]
    },
    {
      "cell_type": "markdown",
      "metadata": {
        "id": "KpOucvcdn-DN"
      },
      "source": [
        "#Generators"
      ]
    },
    {
      "cell_type": "markdown",
      "metadata": {
        "id": "qUDq5KR11Euj"
      },
      "source": [
        "It is a function which returns generator-iterator with the help of yield keyword"
      ]
    },
    {
      "cell_type": "markdown",
      "metadata": {
        "id": "REGgLI1m1gC2"
      },
      "source": [
        "**yield** - yield is a keyword that is used to return from a function without destroying the states of its local variable"
      ]
    },
    {
      "cell_type": "code",
      "metadata": {
        "id": "cTbFKjwadonm"
      },
      "source": [
        "def sq1(n):\n",
        "  for i in range(n):\n",
        "    return i**2"
      ],
      "execution_count": 215,
      "outputs": []
    },
    {
      "cell_type": "code",
      "metadata": {
        "colab": {
          "base_uri": "https://localhost:8080/"
        },
        "id": "346RLyk1eMOF",
        "outputId": "c5c8ea98-af5b-4b01-b8fb-bd4fe80f76d6"
      },
      "source": [
        "print(sq1(3))"
      ],
      "execution_count": 218,
      "outputs": [
        {
          "output_type": "stream",
          "name": "stdout",
          "text": [
            "0\n"
          ]
        }
      ]
    },
    {
      "cell_type": "code",
      "metadata": {
        "colab": {
          "base_uri": "https://localhost:8080/",
          "height": 207
        },
        "id": "FlAm0LSsdpzR",
        "outputId": "5bbda64c-f8f3-4661-9855-393831cf0665"
      },
      "source": [
        "# x = sq1(5)\n",
        "# for i in x:\n",
        "#   print(x)"
      ],
      "execution_count": 127,
      "outputs": [
        {
          "output_type": "error",
          "ename": "TypeError",
          "evalue": "ignored",
          "traceback": [
            "\u001b[0;31m---------------------------------------------------------------------------\u001b[0m",
            "\u001b[0;31mTypeError\u001b[0m                                 Traceback (most recent call last)",
            "\u001b[0;32m<ipython-input-127-b5c3b73c981f>\u001b[0m in \u001b[0;36m<module>\u001b[0;34m()\u001b[0m\n\u001b[1;32m      1\u001b[0m \u001b[0mx\u001b[0m \u001b[0;34m=\u001b[0m \u001b[0msq1\u001b[0m\u001b[0;34m(\u001b[0m\u001b[0;36m5\u001b[0m\u001b[0;34m)\u001b[0m\u001b[0;34m\u001b[0m\u001b[0;34m\u001b[0m\u001b[0m\n\u001b[0;32m----> 2\u001b[0;31m \u001b[0;32mfor\u001b[0m \u001b[0mi\u001b[0m \u001b[0;32min\u001b[0m \u001b[0mx\u001b[0m\u001b[0;34m:\u001b[0m\u001b[0;34m\u001b[0m\u001b[0;34m\u001b[0m\u001b[0m\n\u001b[0m\u001b[1;32m      3\u001b[0m   \u001b[0mprint\u001b[0m\u001b[0;34m(\u001b[0m\u001b[0mx\u001b[0m\u001b[0;34m)\u001b[0m\u001b[0;34m\u001b[0m\u001b[0;34m\u001b[0m\u001b[0m\n",
            "\u001b[0;31mTypeError\u001b[0m: 'int' object is not iterable"
          ]
        }
      ]
    },
    {
      "cell_type": "code",
      "metadata": {
        "id": "0QWezndNlFPR"
      },
      "source": [
        "def rand_no():\n",
        "  yield 10\n",
        "  yield 20\n",
        "  yield 30"
      ],
      "execution_count": 159,
      "outputs": []
    },
    {
      "cell_type": "code",
      "metadata": {
        "id": "3bLYnZslkHPM"
      },
      "source": [
        "gen_fun = rand_no()\n"
      ],
      "execution_count": 160,
      "outputs": []
    },
    {
      "cell_type": "code",
      "metadata": {
        "colab": {
          "base_uri": "https://localhost:8080/",
          "height": 171
        },
        "id": "iLqgbE3sQdUy",
        "outputId": "f5ac4ca0-915f-41d0-c57a-6cf6d995f811"
      },
      "source": [
        "next(gen_fun)"
      ],
      "execution_count": 221,
      "outputs": [
        {
          "output_type": "error",
          "ename": "StopIteration",
          "evalue": "ignored",
          "traceback": [
            "\u001b[0;31m---------------------------------------------------------------------------\u001b[0m",
            "\u001b[0;31mStopIteration\u001b[0m                             Traceback (most recent call last)",
            "\u001b[0;32m<ipython-input-221-f486e61ce1f2>\u001b[0m in \u001b[0;36m<module>\u001b[0;34m()\u001b[0m\n\u001b[0;32m----> 1\u001b[0;31m \u001b[0mnext\u001b[0m\u001b[0;34m(\u001b[0m\u001b[0mgen_fun\u001b[0m\u001b[0;34m)\u001b[0m\u001b[0;34m\u001b[0m\u001b[0;34m\u001b[0m\u001b[0m\n\u001b[0m",
            "\u001b[0;31mStopIteration\u001b[0m: "
          ]
        }
      ]
    },
    {
      "cell_type": "code",
      "metadata": {
        "colab": {
          "base_uri": "https://localhost:8080/"
        },
        "id": "h4PAQbHCPT5E",
        "outputId": "4938a6e2-84df-4210-ccf4-7d1a154620f5"
      },
      "source": [
        "for i in rand_no():\n",
        "  print(i)"
      ],
      "execution_count": 162,
      "outputs": [
        {
          "output_type": "stream",
          "name": "stdout",
          "text": [
            "10\n",
            "20\n",
            "30\n"
          ]
        }
      ]
    },
    {
      "cell_type": "code",
      "metadata": {
        "id": "_myx7UPbkHLw"
      },
      "source": [
        "def sq1(n):\n",
        "  for i in range(n):\n",
        "    yield i**2"
      ],
      "execution_count": 222,
      "outputs": []
    },
    {
      "cell_type": "code",
      "metadata": {
        "id": "q72gML2hfMZj"
      },
      "source": [
        "gen_fun_2 = sq1(3)"
      ],
      "execution_count": 223,
      "outputs": []
    },
    {
      "cell_type": "code",
      "metadata": {
        "colab": {
          "base_uri": "https://localhost:8080/",
          "height": 171
        },
        "id": "iWAW6cphfRKA",
        "outputId": "8cbb3532-0882-4825-b1ff-af5cea15c164"
      },
      "source": [
        "print(next(gen_fun_2))"
      ],
      "execution_count": 227,
      "outputs": [
        {
          "output_type": "error",
          "ename": "StopIteration",
          "evalue": "ignored",
          "traceback": [
            "\u001b[0;31m---------------------------------------------------------------------------\u001b[0m",
            "\u001b[0;31mStopIteration\u001b[0m                             Traceback (most recent call last)",
            "\u001b[0;32m<ipython-input-227-d17b07ebaf06>\u001b[0m in \u001b[0;36m<module>\u001b[0;34m()\u001b[0m\n\u001b[0;32m----> 1\u001b[0;31m \u001b[0mprint\u001b[0m\u001b[0;34m(\u001b[0m\u001b[0mnext\u001b[0m\u001b[0;34m(\u001b[0m\u001b[0mgen_fun_2\u001b[0m\u001b[0;34m)\u001b[0m\u001b[0;34m)\u001b[0m\u001b[0;34m\u001b[0m\u001b[0;34m\u001b[0m\u001b[0m\n\u001b[0m",
            "\u001b[0;31mStopIteration\u001b[0m: "
          ]
        }
      ]
    },
    {
      "cell_type": "code",
      "metadata": {
        "id": "_2Y_YH1hKp91"
      },
      "source": [
        ""
      ],
      "execution_count": 221,
      "outputs": []
    },
    {
      "cell_type": "markdown",
      "metadata": {
        "id": "jice72XNKhzJ"
      },
      "source": [
        "Every generator is an iterator, but not vice versa"
      ]
    },
    {
      "cell_type": "markdown",
      "metadata": {
        "id": "ENGUYjkIcVy5"
      },
      "source": [
        "https://runestone.academy/runestone/books/published/fopp/index.html"
      ]
    },
    {
      "cell_type": "markdown",
      "metadata": {
        "id": "O2YBOglvcX9R"
      },
      "source": [
        "https://runestone.academy/runestone/books/published/fopp/SimplePythonData/Values.html"
      ]
    },
    {
      "cell_type": "markdown",
      "metadata": {
        "id": "8QUEDn9SNQzH"
      },
      "source": [
        "#Comprehension"
      ]
    },
    {
      "cell_type": "code",
      "metadata": {
        "id": "ScjgbEm9bIzQ"
      },
      "source": [
        "#List Comprehension"
      ],
      "execution_count": null,
      "outputs": []
    },
    {
      "cell_type": "code",
      "metadata": {
        "colab": {
          "base_uri": "https://localhost:8080/"
        },
        "id": "UA4Xs2JCHJ0J",
        "outputId": "d20461c3-c612-4b7d-8383-9f608056de76"
      },
      "source": [
        "lst1 = (i*i for i in range(1000000000000000))\n",
        "print(type(lst1))\n"
      ],
      "execution_count": 4,
      "outputs": [
        {
          "output_type": "stream",
          "name": "stdout",
          "text": [
            "<class 'generator'>\n"
          ]
        }
      ]
    },
    {
      "cell_type": "code",
      "metadata": {
        "id": "iHUzbk9CHLwv"
      },
      "source": [
        "#lst = [i*i for i in range(100000000000000000)]\n",
        "print(lst)"
      ],
      "execution_count": null,
      "outputs": []
    },
    {
      "cell_type": "code",
      "metadata": {
        "colab": {
          "base_uri": "https://localhost:8080/"
        },
        "id": "ao3239kuHJtP",
        "outputId": "4c292e71-76d1-4fb6-896b-41898ba41c93"
      },
      "source": [
        "even_no = [i for i in range(10) if i%2 == 0]\n",
        "print(even_no)"
      ],
      "execution_count": 139,
      "outputs": [
        {
          "output_type": "stream",
          "name": "stdout",
          "text": [
            "[0, 2, 4, 6, 8]\n"
          ]
        }
      ]
    },
    {
      "cell_type": "code",
      "metadata": {
        "colab": {
          "base_uri": "https://localhost:8080/"
        },
        "id": "UF0L6HKqHJmk",
        "outputId": "aa22a601-91a6-407c-8f04-6c8fb5a50640"
      },
      "source": [
        "lst1 = [\"a\", \"b\"]\n",
        "lst2 = [\"1\",\"2\"]\n",
        "fin_lst=[(x,y) for x in lst1 for y in lst2]\n",
        "print(fin_lst)"
      ],
      "execution_count": 3,
      "outputs": [
        {
          "output_type": "stream",
          "name": "stdout",
          "text": [
            "[('a', '1'), ('a', '2'), ('b', '1'), ('b', '2')]\n"
          ]
        }
      ]
    },
    {
      "cell_type": "code",
      "metadata": {
        "colab": {
          "base_uri": "https://localhost:8080/"
        },
        "id": "EYtCff-fCQuJ",
        "outputId": "f08d2949-ce6a-42e8-8a46-f0fa0237d935"
      },
      "source": [
        "num1 = [i for i in range(100) if i%2==0 if i%5==0] \n",
        "print(num1)"
      ],
      "execution_count": 143,
      "outputs": [
        {
          "output_type": "stream",
          "name": "stdout",
          "text": [
            "[0, 10, 20, 30, 40, 50, 60, 70, 80, 90]\n"
          ]
        }
      ]
    },
    {
      "cell_type": "code",
      "metadata": {
        "id": "e3FsrKPUNDAR"
      },
      "source": [
        "#Dictionary Comprehension"
      ],
      "execution_count": null,
      "outputs": []
    },
    {
      "cell_type": "markdown",
      "metadata": {
        "id": "0zqveQ30hpYs"
      },
      "source": [
        "The zip() method is to map the similar index of multiple containers so that they can be used just using as single entity. "
      ]
    },
    {
      "cell_type": "code",
      "metadata": {
        "id": "QcUmUa8IhpHO"
      },
      "source": [
        ""
      ],
      "execution_count": null,
      "outputs": []
    },
    {
      "cell_type": "code",
      "metadata": {
        "colab": {
          "base_uri": "https://localhost:8080/"
        },
        "id": "ZFUIpt49NC90",
        "outputId": "420de33c-a871-4a4d-8547-754625658395"
      },
      "source": [
        "key1 = [\"Bihar\", \"Karnataka\"]\n",
        "value1 = [\"Patna\",\"Bengaluru\"]   \n",
        "dict1 = { x:y for (x,y) in zip(key1, value1)}    \n",
        "print (dict1)"
      ],
      "execution_count": 150,
      "outputs": [
        {
          "output_type": "stream",
          "name": "stdout",
          "text": [
            "{'Bihar': 'Patna', 'Karnataka': 'Bengaluru'}\n"
          ]
        }
      ]
    },
    {
      "cell_type": "code",
      "metadata": {
        "id": "2UjGtmzzNC6e"
      },
      "source": [
        ""
      ],
      "execution_count": null,
      "outputs": []
    },
    {
      "cell_type": "code",
      "metadata": {
        "id": "qhpr0k0cNC3k"
      },
      "source": [
        ""
      ],
      "execution_count": null,
      "outputs": []
    },
    {
      "cell_type": "code",
      "metadata": {
        "id": "BpOVR-R8NCyy"
      },
      "source": [
        ""
      ],
      "execution_count": null,
      "outputs": []
    }
  ]
}