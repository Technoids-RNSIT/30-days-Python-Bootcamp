{
 "cells": [
  {
   "cell_type": "markdown",
   "id": "e499a6a0",
   "metadata": {},
   "source": [
    "**Installing numpy Python library**\n",
    "\n",
    "Open terminal \n",
    "\n",
    "give the command <code>pip3 install numpy<code>"
   ]
  },
  {
   "cell_type": "markdown",
   "id": "bd0ce8d4",
   "metadata": {},
   "source": [
    "# What is numpy\n",
    "\n",
    "It is an important python Library used for working with arrays.\n",
    "\n",
    "NumPy is the fundamental package for scientific computing in Python. It is a Python library that provides a multidimensional array object, various derived objects (such as masked arrays and matrices), and an assortment of routines for fast operations on arrays, including mathematical, logical, shape manipulation, sorting, selecting, I/O, discrete Fourier transforms, basic linear algebra, basic statistical operations, random simulation and much more.\n"
   ]
  },
  {
   "cell_type": "code",
   "execution_count": 1,
   "id": "7da0a51c",
   "metadata": {},
   "outputs": [],
   "source": [
    "import numpy as np\n"
   ]
  },
  {
   "cell_type": "code",
   "execution_count": 2,
   "id": "00852cea",
   "metadata": {},
   "outputs": [
    {
     "name": "stdout",
     "output_type": "stream",
     "text": [
      "[2 3 4 5]\n"
     ]
    }
   ],
   "source": [
    "l= [2,3,4,5]\n",
    "arr= np.array(l)\n",
    "print(arr)"
   ]
  },
  {
   "cell_type": "markdown",
   "id": "98d8e88d",
   "metadata": {},
   "source": [
    "### Advantage of numpy over Lists\n",
    "\n",
    "1. Numpy occcupies much less space than a list\n",
    "2. Numpy are faster than lists\n",
    "3. Numpy uses fixed datatypes\n",
    "4. NumPy arrays facilitate advanced mathematical and other types of operations on large numbers of data. Typically, such operations are executed more efficiently and with less code than is possible using Python’s built-in sequences.\n",
    "5. Numpy supports vectorized operations"
   ]
  },
  {
   "cell_type": "code",
   "execution_count": 3,
   "id": "4095641d",
   "metadata": {},
   "outputs": [
    {
     "name": "stdout",
     "output_type": "stream",
     "text": [
      "[6, 10, 18, 32, 45]\n"
     ]
    }
   ],
   "source": [
    "a = [1,2,3,4,5]\n",
    "b= [6,5,6,8,9]\n",
    "c = []\n",
    "for i in range(len(a)):\n",
    "    c.append(a[i]*b[i])\n",
    "print(c)"
   ]
  },
  {
   "cell_type": "markdown",
   "id": "92769ed2",
   "metadata": {},
   "source": [
    "Here if we had many elements in both a and b then it would be difficult but it will be easy in Numpy because Numpy supports vectorized operations like it can add 2 array or multiply or do any operation in one step\n"
   ]
  },
  {
   "cell_type": "code",
   "execution_count": 4,
   "id": "8d35b56a",
   "metadata": {},
   "outputs": [
    {
     "name": "stdout",
     "output_type": "stream",
     "text": [
      "[ 6 10 18 32 45]\n"
     ]
    }
   ],
   "source": [
    "a = np.array(a)\n",
    "b = np.array(b)\n",
    "c =  a*b\n",
    "print (c)"
   ]
  },
  {
   "cell_type": "code",
   "execution_count": 5,
   "id": "f8cc285b",
   "metadata": {},
   "outputs": [
    {
     "data": {
      "text/plain": [
       "1"
      ]
     },
     "execution_count": 5,
     "metadata": {},
     "output_type": "execute_result"
    }
   ],
   "source": [
    "# Get Dimension:- NumPy Arrays provides the ndim attribute that returns an integer that tells us how many dimensions the array have.\n",
    "a.ndim"
   ]
  },
  {
   "cell_type": "code",
   "execution_count": 6,
   "id": "33382699",
   "metadata": {},
   "outputs": [
    {
     "name": "stdout",
     "output_type": "stream",
     "text": [
      "0\n",
      "1\n",
      "2\n",
      "3\n"
     ]
    }
   ],
   "source": [
    "a = np.array(42)\n",
    "b = np.array([1, 2, 3, 4, 5])\n",
    "c = np.array([[1, 2, 3], [4, 5, 6]])\n",
    "d = np.array([[[1, 2, 3], [4, 5, 6]], [[1, 2, 3], [4, 5, 6]]])\n",
    "\n",
    "print(a.ndim)\n",
    "print(b.ndim)\n",
    "print(c.ndim)\n",
    "print(d.ndim) "
   ]
  },
  {
   "cell_type": "code",
   "execution_count": 7,
   "id": "64cdd68b",
   "metadata": {},
   "outputs": [
    {
     "name": "stdout",
     "output_type": "stream",
     "text": [
      "3\n",
      "5\n",
      "6\n",
      "3\n",
      "1\n"
     ]
    }
   ],
   "source": [
    "# Access Array Elements\n",
    "print(b[2])\n",
    "print (c[1,1])\n",
    "print (d[0,1,2])\n",
    "\n",
    "# we can give negetive Index\n",
    "# here if we want to access last element we can give index as -1 or to access second last element -2\n",
    "print(c[0,-1])\n",
    "print(d[-1,-2,0])\n"
   ]
  },
  {
   "cell_type": "code",
   "execution_count": 8,
   "id": "b412c28a",
   "metadata": {},
   "outputs": [
    {
     "name": "stdout",
     "output_type": "stream",
     "text": [
      "int64\n",
      "float64\n",
      "<U6\n"
     ]
    }
   ],
   "source": [
    "# arrays are group of homogenous elements which means each array can have only one type of elements\n",
    "a= np.array([1,2,3,4,5])\n",
    "print(a.dtype)\n",
    "b=np.array([1.4,5.7,6.1])\n",
    "c=np.array([\"goals\",\"dreams\",\"war\",\"peace\"])\n",
    "print(b.dtype)\n",
    "print(c.dtype)"
   ]
  },
  {
   "cell_type": "code",
   "execution_count": 9,
   "id": "acf1a5de",
   "metadata": {},
   "outputs": [
    {
     "name": "stdout",
     "output_type": "stream",
     "text": [
      "int32\n"
     ]
    }
   ],
   "source": [
    "# In above example datatype is created by default but we can also give datatype while creating an array\n",
    "\n",
    "a= np.array([1,2,3,4],dtype='int32') \n",
    "print(a.dtype) \n",
    "# and .dtype is used to give the datatype of the array"
   ]
  },
  {
   "cell_type": "markdown",
   "id": "b0b6de86",
   "metadata": {},
   "source": [
    "we have many datatypes and we use characters to repreasent them\n",
    "\n",
    "\n",
    "    i - integer\n",
    "    b - boolean\n",
    "    u - unsigned integer\n",
    "    f - float\n",
    "    c - complex float\n",
    "    m - timedelta\n",
    "    M - datetime\n",
    "    O - object\n",
    "    S - string\n",
    "    U - unicode string\n",
    "    V - fixed chunk of memory for other type ( void )\n",
    "    \n",
    "### Syntax\n",
    "arr_name = np.array([ele1,ele2,ele3...],dtype=\"datatype\")"
   ]
  },
  {
   "cell_type": "code",
   "execution_count": 10,
   "id": "7cbefab9",
   "metadata": {},
   "outputs": [
    {
     "name": "stdout",
     "output_type": "stream",
     "text": [
      "[1 2 6]\n"
     ]
    }
   ],
   "source": [
    "# we can convert some datatypes in array\n",
    "arr = np.array([1.1,2.5,6.0])\n",
    "newarr = arr.astype(int)\n",
    "print(newarr)\n",
    "# but sometime we can not convert datatypes"
   ]
  },
  {
   "cell_type": "code",
   "execution_count": 11,
   "id": "934bee25",
   "metadata": {},
   "outputs": [
    {
     "name": "stdout",
     "output_type": "stream",
     "text": [
      "[2 3 4 5]\n",
      "[1 2 3]\n",
      "[3 4 5 6 7]\n"
     ]
    }
   ],
   "source": [
    "# Slicing arrays\n",
    "arr = np.array([1, 2, 3, 4, 5, 6, 7])\n",
    "\n",
    "print(arr[1:5]) #it includes start (index:1) and till end-1(exclusive of end)(end=index:5) \n",
    "print(arr[:3]) # here it take start as index 0 and print till 3-1 element\n",
    "print(arr[2:]) # here it starts from index 2 and print till the end of array"
   ]
  },
  {
   "cell_type": "code",
   "execution_count": 12,
   "id": "5bf16e40",
   "metadata": {},
   "outputs": [
    {
     "name": "stdout",
     "output_type": "stream",
     "text": [
      "[5 6]\n",
      "[1 2 3 4 5]\n",
      "[7]\n"
     ]
    }
   ],
   "source": [
    "# Negative Slicing\n",
    "print(arr[-3:-1]) \n",
    "print(arr[:-2])\n",
    "print(arr[-1:])"
   ]
  },
  {
   "cell_type": "code",
   "execution_count": 13,
   "id": "0178885c",
   "metadata": {},
   "outputs": [
    {
     "name": "stdout",
     "output_type": "stream",
     "text": [
      "(3, 3)\n",
      "(2, 2, 3)\n"
     ]
    }
   ],
   "source": [
    "# Get Shape \n",
    "#The shape of an array is the number of elements in each dimension.\n",
    "\n",
    "arr= np.array([[1,2,3],[4,5,6],[0,5,7]])\n",
    "print(arr.shape)\n",
    "a= np.array([[[1,2,3],[4,5,6]],[[0,9,8],[7,6,5]]])\n",
    "print(a.shape)\n"
   ]
  },
  {
   "cell_type": "code",
   "execution_count": 14,
   "id": "42c75226",
   "metadata": {},
   "outputs": [
    {
     "name": "stdout",
     "output_type": "stream",
     "text": [
      "[[[[[1 2 3 4]]]]]\n",
      "(1, 1, 1, 1, 4)\n"
     ]
    }
   ],
   "source": [
    "# we can create with different dimensions\n",
    "arr = np.array([1, 2, 3, 4], ndmin=5)\n",
    "print(arr)\n",
    "print(arr.shape)"
   ]
  },
  {
   "cell_type": "code",
   "execution_count": 15,
   "id": "3fb0924d",
   "metadata": {},
   "outputs": [
    {
     "name": "stdout",
     "output_type": "stream",
     "text": [
      "[[ 1  2]\n",
      " [ 3  4]\n",
      " [ 5  6]\n",
      " [ 7  8]\n",
      " [ 9 10]\n",
      " [11 12]]\n",
      "---------------------------------\n",
      "[[[ 1  2]\n",
      "  [ 3  4]\n",
      "  [ 5  6]]\n",
      "\n",
      " [[ 7  8]\n",
      "  [ 9 10]\n",
      "  [11 12]]]\n"
     ]
    }
   ],
   "source": [
    "# Reshaping arrays\n",
    "\n",
    "arr = np.array([1, 2, 3, 4, 5, 6, 7, 8, 9, 10, 11, 12])\n",
    "\n",
    "newarr = arr.reshape(6,2) # convert to 2d\n",
    "print(newarr)\n",
    "print(\"---------------------------------\")\n",
    "print(arr.reshape(2,3,2)) # convert to 3d\n"
   ]
  },
  {
   "cell_type": "code",
   "execution_count": 16,
   "id": "cb328e99",
   "metadata": {},
   "outputs": [
    {
     "name": "stdout",
     "output_type": "stream",
     "text": [
      "8\n",
      "4\n"
     ]
    }
   ],
   "source": [
    "# Get Size\n",
    "a= np.array([5,3,2,0]) # size of int64 is 8 bytes\n",
    "print(a.itemsize)\n",
    "a= np.array([5,3,2,0],dtype=\"int32\") #size of int32 is 4 bytes\n",
    "print(a.itemsize)"
   ]
  },
  {
   "cell_type": "code",
   "execution_count": 17,
   "id": "cb56e8cf",
   "metadata": {},
   "outputs": [
    {
     "name": "stdout",
     "output_type": "stream",
     "text": [
      "4\n",
      "8\n"
     ]
    }
   ],
   "source": [
    "# Get Size\n",
    "print(a.size) # this gives the total elements present in the array\n",
    "b=np.array([[1,2,3,4],[5,6,7,8]])\n",
    "print(b.size)"
   ]
  },
  {
   "cell_type": "code",
   "execution_count": 18,
   "id": "78520b4f",
   "metadata": {},
   "outputs": [
    {
     "data": {
      "text/plain": [
       "16"
      ]
     },
     "execution_count": 18,
     "metadata": {},
     "output_type": "execute_result"
    }
   ],
   "source": [
    "# Get total size\n",
    "a.nbytes # each element of array a takes 4 bytes total there are 4 elements so total size= a.itemsize*a.size"
   ]
  },
  {
   "cell_type": "code",
   "execution_count": 19,
   "id": "9ec8879d",
   "metadata": {},
   "outputs": [
    {
     "name": "stdout",
     "output_type": "stream",
     "text": [
      "[array([1, 2]), array([3, 4]), array([5, 6])]\n"
     ]
    }
   ],
   "source": [
    "# Splitting NumPy Arrays\n",
    "# it splits the array and make different given number of elements\n",
    "ar= np.array([1,2,3,4,5,6])\n",
    "print(np.array_split(ar, 3))"
   ]
  },
  {
   "cell_type": "markdown",
   "id": "610a1d9d",
   "metadata": {},
   "source": [
    "### Initializing Different Types of Arrays"
   ]
  },
  {
   "cell_type": "code",
   "execution_count": 20,
   "id": "3324766b",
   "metadata": {},
   "outputs": [
    {
     "data": {
      "text/plain": [
       "array([[0., 0., 0.],\n",
       "       [0., 0., 0.]])"
      ]
     },
     "execution_count": 20,
     "metadata": {},
     "output_type": "execute_result"
    }
   ],
   "source": [
    "# All 0s matrix\n",
    "np.zeros((2,3))"
   ]
  },
  {
   "cell_type": "code",
   "execution_count": 21,
   "id": "c7a94b15",
   "metadata": {},
   "outputs": [
    {
     "data": {
      "text/plain": [
       "array([[[1, 1],\n",
       "        [1, 1]],\n",
       "\n",
       "       [[1, 1],\n",
       "        [1, 1]],\n",
       "\n",
       "       [[1, 1],\n",
       "        [1, 1]],\n",
       "\n",
       "       [[1, 1],\n",
       "        [1, 1]]], dtype=int32)"
      ]
     },
     "execution_count": 21,
     "metadata": {},
     "output_type": "execute_result"
    }
   ],
   "source": [
    "# All 1s matrix\n",
    "np.ones((4,2,2), dtype='int32')"
   ]
  },
  {
   "cell_type": "code",
   "execution_count": 22,
   "id": "8c3fd60c",
   "metadata": {},
   "outputs": [
    {
     "data": {
      "text/plain": [
       "array([[7, 7],\n",
       "       [7, 7]])"
      ]
     },
     "execution_count": 22,
     "metadata": {},
     "output_type": "execute_result"
    }
   ],
   "source": [
    "# Any other number\n",
    "np.full((2,2), 7)"
   ]
  },
  {
   "cell_type": "code",
   "execution_count": 23,
   "id": "c06951f1",
   "metadata": {},
   "outputs": [
    {
     "name": "stdout",
     "output_type": "stream",
     "text": [
      "[3 5 7 9]\n",
      "-----------------------\n",
      "[[0 1]\n",
      " [2 3]\n",
      " [4 5]]\n"
     ]
    }
   ],
   "source": [
    "# arrange - here we give min element and max element and diffence between 2 adjecent elements\n",
    "x=np.arange(3,10,2)\n",
    "print(x)\n",
    "# to make 2d or 3d array\n",
    "print(\"-----------------------\")\n",
    "x=np.arange(6).reshape(3,2)\n",
    "print(x)"
   ]
  },
  {
   "cell_type": "code",
   "execution_count": 24,
   "id": "56b2a02f",
   "metadata": {},
   "outputs": [
    {
     "name": "stdout",
     "output_type": "stream",
     "text": [
      "[ 3.5         5.66666667  7.83333333 10.        ]\n"
     ]
    }
   ],
   "source": [
    "# linspace - here it takes parametter (min ele,max ele,no of values)\n",
    "x= np.linspace(3.5,10,4)\n",
    "print(x)"
   ]
  },
  {
   "cell_type": "code",
   "execution_count": 25,
   "id": "2fe86382",
   "metadata": {},
   "outputs": [
    {
     "data": {
      "text/plain": [
       "array([[0.07244575, 0.16027282],\n",
       "       [0.08453021, 0.77837365],\n",
       "       [0.55016222, 0.57754469],\n",
       "       [0.03844584, 0.95718232]])"
      ]
     },
     "execution_count": 25,
     "metadata": {},
     "output_type": "execute_result"
    }
   ],
   "source": [
    "# Random decimal numbers\n",
    "np.random.rand(4,2)"
   ]
  },
  {
   "cell_type": "code",
   "execution_count": 26,
   "id": "2b4b2277",
   "metadata": {},
   "outputs": [
    {
     "data": {
      "text/plain": [
       "array([[ 0,  6,  3],\n",
       "       [ 3, -2,  5],\n",
       "       [ 4,  2,  2]])"
      ]
     },
     "execution_count": 26,
     "metadata": {},
     "output_type": "execute_result"
    }
   ],
   "source": [
    "# Random Integer values\n",
    "np.random.randint(-4,8, size=(3,3))"
   ]
  },
  {
   "cell_type": "code",
   "execution_count": 27,
   "id": "afae707a",
   "metadata": {},
   "outputs": [
    {
     "data": {
      "text/plain": [
       "array([[1., 0., 0., 0., 0.],\n",
       "       [0., 1., 0., 0., 0.],\n",
       "       [0., 0., 1., 0., 0.],\n",
       "       [0., 0., 0., 1., 0.],\n",
       "       [0., 0., 0., 0., 1.]])"
      ]
     },
     "execution_count": 27,
     "metadata": {},
     "output_type": "execute_result"
    }
   ],
   "source": [
    "# The identity matrix\n",
    "np.identity(5)"
   ]
  },
  {
   "cell_type": "code",
   "execution_count": 28,
   "id": "d6dd29f5",
   "metadata": {},
   "outputs": [
    {
     "name": "stdout",
     "output_type": "stream",
     "text": [
      "[2 2 3 4]\n",
      "[2 2 3 4]\n"
     ]
    }
   ],
   "source": [
    "arr= np.array([1,2,3,4])\n",
    "x=arr\n",
    "arr[0]=2\n",
    "print(x)\n",
    "print(arr)"
   ]
  },
  {
   "cell_type": "markdown",
   "id": "caa20e82",
   "metadata": {},
   "source": [
    "In above example we copy(as it is done in other programming language) but if we change arr then x also change so we need to copy arr to x"
   ]
  },
  {
   "cell_type": "code",
   "execution_count": 29,
   "id": "6c0d47dc",
   "metadata": {},
   "outputs": [
    {
     "name": "stdout",
     "output_type": "stream",
     "text": [
      "[42  2  3  4  5]\n",
      "[1 2 3 4 5]\n"
     ]
    }
   ],
   "source": [
    "arr = np.array([1, 2, 3, 4, 5])\n",
    "x = arr.copy()\n",
    "arr[0] = 42\n",
    "\n",
    "print(arr)\n",
    "print(x) "
   ]
  },
  {
   "cell_type": "markdown",
   "id": "f11b72dc",
   "metadata": {},
   "source": [
    "## Searching, Sorting"
   ]
  },
  {
   "cell_type": "code",
   "execution_count": 31,
   "id": "5236e011",
   "metadata": {},
   "outputs": [
    {
     "name": "stdout",
     "output_type": "stream",
     "text": [
      "(array([1, 3, 5, 6, 7, 9]),)\n",
      "(array([7]),)\n"
     ]
    }
   ],
   "source": [
    "# Searching \n",
    "arr = np.array([1, 2, 3, 4, 5, 4, 4,6,7,8])\n",
    "\n",
    "x = np.where(arr == 6)\n",
    "y = np.where(arr%2 == 0)\n",
    "print(y)\n",
    "print(x) "
   ]
  },
  {
   "cell_type": "code",
   "execution_count": 32,
   "id": "f600d17a",
   "metadata": {},
   "outputs": [
    {
     "name": "stdout",
     "output_type": "stream",
     "text": [
      "[0 1 2 3]\n"
     ]
    }
   ],
   "source": [
    "# Sorting in 1d\n",
    "arr = np.array([3, 2, 0, 1])\n",
    "\n",
    "print(np.sort(arr)) "
   ]
  },
  {
   "cell_type": "code",
   "execution_count": 33,
   "id": "92e4cade",
   "metadata": {},
   "outputs": [
    {
     "name": "stdout",
     "output_type": "stream",
     "text": [
      "[[2 3 4]\n",
      " [0 1 5]]\n"
     ]
    }
   ],
   "source": [
    "# sorting in 2d\n",
    "arr = np.array([[3, 2, 4], [5, 0, 1]])\n",
    "\n",
    "print(np.sort(arr)) \n"
   ]
  },
  {
   "cell_type": "markdown",
   "id": "fcf53f2e",
   "metadata": {},
   "source": [
    "## Mathematics"
   ]
  },
  {
   "cell_type": "code",
   "execution_count": 34,
   "id": "969525c0",
   "metadata": {},
   "outputs": [
    {
     "name": "stdout",
     "output_type": "stream",
     "text": [
      "[1 2 3 4]\n",
      "[3 4 5 6]\n"
     ]
    }
   ],
   "source": [
    "a = np.array([1,2,3,4])\n",
    "print(a)\n",
    "b=a + 2\n",
    "print(b)"
   ]
  },
  {
   "cell_type": "code",
   "execution_count": 35,
   "id": "7ff09c8c",
   "metadata": {},
   "outputs": [
    {
     "data": {
      "text/plain": [
       "array([0, 1, 2, 3])"
      ]
     },
     "execution_count": 35,
     "metadata": {},
     "output_type": "execute_result"
    }
   ],
   "source": [
    "a -1"
   ]
  },
  {
   "cell_type": "code",
   "execution_count": 36,
   "id": "9d309218",
   "metadata": {},
   "outputs": [
    {
     "name": "stdout",
     "output_type": "stream",
     "text": [
      "[2 4 6 8]\n",
      "[0.5 1.  1.5 2. ]\n"
     ]
    }
   ],
   "source": [
    "c=a * 2\n",
    "d=a/2\n",
    "print(c)\n",
    "print(d)"
   ]
  },
  {
   "cell_type": "code",
   "execution_count": 37,
   "id": "eda292f7",
   "metadata": {},
   "outputs": [
    {
     "data": {
      "text/plain": [
       "array([ 1,  4,  9, 16])"
      ]
     },
     "execution_count": 37,
     "metadata": {},
     "output_type": "execute_result"
    }
   ],
   "source": [
    "a**2"
   ]
  },
  {
   "cell_type": "markdown",
   "id": "4da46f26",
   "metadata": {},
   "source": [
    "### Link for Mathematical functions\n",
    "\n",
    "https://docs.scipy.org/doc/numpy/reference/routines.math.html"
   ]
  },
  {
   "cell_type": "code",
   "execution_count": null,
   "id": "2b0d8f4b",
   "metadata": {},
   "outputs": [],
   "source": []
  }
 ],
 "metadata": {
  "kernelspec": {
   "display_name": "Python 3",
   "language": "python",
   "name": "python3"
  },
  "language_info": {
   "codemirror_mode": {
    "name": "ipython",
    "version": 3
   },
   "file_extension": ".py",
   "mimetype": "text/x-python",
   "name": "python",
   "nbconvert_exporter": "python",
   "pygments_lexer": "ipython3",
   "version": "3.8.8"
  }
 },
 "nbformat": 4,
 "nbformat_minor": 5
}
