{
 "cells": [
  {
   "cell_type": "markdown",
   "id": "32f99f21",
   "metadata": {},
   "source": [
    "### problem 1 : write code to print the given pattern using Numpy (efficient code)\n",
    "\n",
    "\n",
    "\n",
    "###### do not just print the pattern"
   ]
  },
  {
   "cell_type": "code",
   "execution_count": 3,
   "id": "621e1a48",
   "metadata": {},
   "outputs": [],
   "source": [
    "# 6 6 6 6 6 6 \n",
    "# 6 5 5 5 5 6\n",
    "# 6 5 4 4 5 6\n",
    "# 6 5 4 4 5 6\n",
    "# 6 5 5 5 5 6\n",
    "# 6 6 6 6 6 6"
   ]
  },
  {
   "cell_type": "markdown",
   "id": "216e669c",
   "metadata": {},
   "source": [
    "### Problem 2 : Change data type of given array into int32\n"
   ]
  },
  {
   "cell_type": "code",
   "execution_count": 4,
   "id": "b834fdcd",
   "metadata": {},
   "outputs": [],
   "source": [
    "import numpy as np\n",
    "\n",
    "arr = np.array([1.1,7.8,5.5,6.9,3.1])\n"
   ]
  },
  {
   "cell_type": "markdown",
   "id": "6bb7942e",
   "metadata": {},
   "source": [
    "### Problem 3 :  reshape the given array (a) to 3x3 matrix"
   ]
  },
  {
   "cell_type": "code",
   "execution_count": 10,
   "id": "1449bfec",
   "metadata": {},
   "outputs": [],
   "source": [
    "a= np.array([1,2,3,4,5,6,7,8,9],ndmin=4)\n"
   ]
  },
  {
   "cell_type": "code",
   "execution_count": null,
   "id": "63213569",
   "metadata": {},
   "outputs": [],
   "source": []
  }
 ],
 "metadata": {
  "kernelspec": {
   "display_name": "Python 3",
   "language": "python",
   "name": "python3"
  },
  "language_info": {
   "codemirror_mode": {
    "name": "ipython",
    "version": 3
   },
   "file_extension": ".py",
   "mimetype": "text/x-python",
   "name": "python",
   "nbconvert_exporter": "python",
   "pygments_lexer": "ipython3",
   "version": "3.8.8"
  }
 },
 "nbformat": 4,
 "nbformat_minor": 5
}
